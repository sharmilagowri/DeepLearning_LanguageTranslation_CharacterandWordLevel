{
  "nbformat": 4,
  "nbformat_minor": 0,
  "metadata": {
    "colab": {
      "name": "Assignment3_WordAttention_Sharmila_3C.ipynb",
      "provenance": [],
      "collapsed_sections": []
    },
    "kernelspec": {
      "name": "python3",
      "display_name": "Python 3"
    },
    "accelerator": "GPU"
  },
  "cells": [
    {
      "cell_type": "markdown",
      "metadata": {
        "id": "skdLOwfYtQc5"
      },
      "source": [
        "#Assignment -3\n",
        "#Sharmila Gowri Velugula - ku3936"
      ]
    },
    {
      "cell_type": "markdown",
      "metadata": {
        "id": "5onEMq6EhTU2"
      },
      "source": [
        "#**3C) Seq2Seq Language translation Model - Word Level with Attention**"
      ]
    },
    {
      "cell_type": "markdown",
      "metadata": {
        "id": "ZWkBLKjljXfK"
      },
      "source": [
        "Import Marathi text file[mar.txt], attention.py file [For using attention mechanism]"
      ]
    },
    {
      "cell_type": "markdown",
      "metadata": {
        "id": "JyVjdISvjczl"
      },
      "source": [
        "The major drawback of encoder-decoder model in sequence to sequence recurrent neural network is that it can only work on short sequences. It is difficult for the encoder model to memorize long sequences and convert it into a fixed-length vector. Moreover, the decoder receives only one information that is the last encoder hidden state. Hence it's difficult for the decoder to summarize large input sequence at once"
      ]
    },
    {
      "cell_type": "markdown",
      "metadata": {
        "id": "zxHtlf5djh1F"
      },
      "source": [
        "Now, this is where the concept of ‘Attention Mechanism’ comes. The major intuition about this is that it predicts the next word by concentrating on a few relevant parts of the sequence rather than looking on the entire sequence."
      ]
    },
    {
      "cell_type": "markdown",
      "metadata": {
        "id": "lj0H95uTjqTg"
      },
      "source": [
        "#Import Libraries"
      ]
    },
    {
      "cell_type": "code",
      "metadata": {
        "id": "gVDZ22N4F4_-"
      },
      "source": [
        "from attention import AttentionLayer"
      ],
      "execution_count": 1,
      "outputs": []
    },
    {
      "cell_type": "code",
      "metadata": {
        "id": "AESHaivdF9UN"
      },
      "source": [
        "import pandas as pd\n",
        "from sklearn.model_selection import train_test_split\n",
        "import string\n",
        "from string import digits\n",
        "import re\n",
        "from sklearn.utils import shuffle\n",
        "from tensorflow.keras.preprocessing.sequence import pad_sequences\n",
        "from tensorflow.keras.layers import LSTM, Input, Dense,Embedding, Concatenate, TimeDistributed\n",
        "from tensorflow.keras.models import Model,load_model, model_from_json\n",
        "from tensorflow.keras.utils import plot_model\n",
        "from tensorflow.keras.preprocessing.text import one_hot, Tokenizer\n",
        "from tensorflow.keras.callbacks import EarlyStopping\n",
        "import pickle as pkl\n",
        "import numpy as np"
      ],
      "execution_count": 2,
      "outputs": []
    },
    {
      "cell_type": "markdown",
      "metadata": {
        "id": "F6aB2rPTjsbw"
      },
      "source": [
        "#Load the Dataset"
      ]
    },
    {
      "cell_type": "code",
      "metadata": {
        "id": "SrUPL-HqGMkr"
      },
      "source": [
        "with open('mar.txt','r') as f:\n",
        "  data = f.read()\n"
      ],
      "execution_count": 3,
      "outputs": []
    },
    {
      "cell_type": "markdown",
      "metadata": {
        "id": "j-e2gNqXjwpJ"
      },
      "source": [
        "#Data Cleaning"
      ]
    },
    {
      "cell_type": "code",
      "metadata": {
        "id": "Ib7_4gUZGOiy",
        "outputId": "20b89fbb-e163-4b77-e81b-b42fc999a692",
        "colab": {
          "base_uri": "https://localhost:8080/"
        }
      },
      "source": [
        "\n",
        "uncleaned_data_list = data.split('\\n')\n",
        "len(uncleaned_data_list)"
      ],
      "execution_count": 4,
      "outputs": [
        {
          "output_type": "execute_result",
          "data": {
            "text/plain": [
              "40189"
            ]
          },
          "metadata": {
            "tags": []
          },
          "execution_count": 4
        }
      ]
    },
    {
      "cell_type": "code",
      "metadata": {
        "id": "azORyGptGSDo",
        "outputId": "6f9ccf1d-7a15-4b80-c72b-0f49ccb30771",
        "colab": {
          "base_uri": "https://localhost:8080/"
        }
      },
      "source": [
        "\n",
        "uncleaned_data_list = uncleaned_data_list[:38695]\n",
        "len(uncleaned_data_list)"
      ],
      "execution_count": 5,
      "outputs": [
        {
          "output_type": "execute_result",
          "data": {
            "text/plain": [
              "38695"
            ]
          },
          "metadata": {
            "tags": []
          },
          "execution_count": 5
        }
      ]
    },
    {
      "cell_type": "code",
      "metadata": {
        "id": "gpQTjwbwGVXQ"
      },
      "source": [
        "english_word = []\n",
        "marathi_word = []\n",
        "cleaned_data_list = []\n",
        "for word in uncleaned_data_list:\n",
        "  english_word.append(word.split('\\t')[:-1][0])\n",
        "  marathi_word.append(word.split('\\t')[:-1][1])"
      ],
      "execution_count": 6,
      "outputs": []
    },
    {
      "cell_type": "code",
      "metadata": {
        "id": "e3u5tLR7GYu-",
        "outputId": "8a51dd6b-c51f-4017-f05e-1aed6fec1449",
        "colab": {
          "base_uri": "https://localhost:8080/"
        }
      },
      "source": [
        "len(english_word), len(marathi_word)\n"
      ],
      "execution_count": 7,
      "outputs": [
        {
          "output_type": "execute_result",
          "data": {
            "text/plain": [
              "(38695, 38695)"
            ]
          },
          "metadata": {
            "tags": []
          },
          "execution_count": 7
        }
      ]
    },
    {
      "cell_type": "code",
      "metadata": {
        "id": "hup-VkBqGa4z"
      },
      "source": [
        "language_data = pd.DataFrame(columns=['English','Marathi'])\n",
        "language_data['English'] = english_word\n",
        "language_data['Marathi'] = marathi_word\n",
        "language_data.to_csv('language_data.csv', index=False)\n",
        "language_data = pd.read_csv('language_data.csv')"
      ],
      "execution_count": 8,
      "outputs": []
    },
    {
      "cell_type": "code",
      "metadata": {
        "id": "HSrVH0y3GguJ",
        "outputId": "db8c9784-b375-403e-c08a-82eeb2534de1",
        "colab": {
          "base_uri": "https://localhost:8080/",
          "height": 201
        }
      },
      "source": [
        "language_data.head()\n"
      ],
      "execution_count": 9,
      "outputs": [
        {
          "output_type": "execute_result",
          "data": {
            "text/html": [
              "<div>\n",
              "<style scoped>\n",
              "    .dataframe tbody tr th:only-of-type {\n",
              "        vertical-align: middle;\n",
              "    }\n",
              "\n",
              "    .dataframe tbody tr th {\n",
              "        vertical-align: top;\n",
              "    }\n",
              "\n",
              "    .dataframe thead th {\n",
              "        text-align: right;\n",
              "    }\n",
              "</style>\n",
              "<table border=\"1\" class=\"dataframe\">\n",
              "  <thead>\n",
              "    <tr style=\"text-align: right;\">\n",
              "      <th></th>\n",
              "      <th>English</th>\n",
              "      <th>Marathi</th>\n",
              "    </tr>\n",
              "  </thead>\n",
              "  <tbody>\n",
              "    <tr>\n",
              "      <th>0</th>\n",
              "      <td>Go.</td>\n",
              "      <td>जा.</td>\n",
              "    </tr>\n",
              "    <tr>\n",
              "      <th>1</th>\n",
              "      <td>Run!</td>\n",
              "      <td>पळ!</td>\n",
              "    </tr>\n",
              "    <tr>\n",
              "      <th>2</th>\n",
              "      <td>Run!</td>\n",
              "      <td>धाव!</td>\n",
              "    </tr>\n",
              "    <tr>\n",
              "      <th>3</th>\n",
              "      <td>Run!</td>\n",
              "      <td>पळा!</td>\n",
              "    </tr>\n",
              "    <tr>\n",
              "      <th>4</th>\n",
              "      <td>Run!</td>\n",
              "      <td>धावा!</td>\n",
              "    </tr>\n",
              "  </tbody>\n",
              "</table>\n",
              "</div>"
            ],
            "text/plain": [
              "  English Marathi\n",
              "0     Go.     जा.\n",
              "1    Run!     पळ!\n",
              "2    Run!    धाव!\n",
              "3    Run!    पळा!\n",
              "4    Run!   धावा!"
            ]
          },
          "metadata": {
            "tags": []
          },
          "execution_count": 9
        }
      ]
    },
    {
      "cell_type": "markdown",
      "metadata": {
        "id": "8rMdj2_Ij0Ni"
      },
      "source": [
        "#Text PreProcessing"
      ]
    },
    {
      "cell_type": "code",
      "metadata": {
        "id": "NxCNeNexGiQZ"
      },
      "source": [
        "english_text = language_data['English'].values\n",
        "marathi_text = language_data['Marathi'].values"
      ],
      "execution_count": 10,
      "outputs": []
    },
    {
      "cell_type": "code",
      "metadata": {
        "id": "99etuBeOGlNq",
        "outputId": "a22282a3-d935-41ea-eb75-bbafba1661ec",
        "colab": {
          "base_uri": "https://localhost:8080/"
        }
      },
      "source": [
        "english_text[0], marathi_text[0]\n"
      ],
      "execution_count": 11,
      "outputs": [
        {
          "output_type": "execute_result",
          "data": {
            "text/plain": [
              "('Go.', 'जा.')"
            ]
          },
          "metadata": {
            "tags": []
          },
          "execution_count": 11
        }
      ]
    },
    {
      "cell_type": "code",
      "metadata": {
        "id": "d3olaKJNGnTy",
        "outputId": "b0a452e6-ca0a-4f9e-ccf0-b6b5165403f5",
        "colab": {
          "base_uri": "https://localhost:8080/"
        }
      },
      "source": [
        "len(english_text), len(marathi_text)\n"
      ],
      "execution_count": 12,
      "outputs": [
        {
          "output_type": "execute_result",
          "data": {
            "text/plain": [
              "(38695, 38695)"
            ]
          },
          "metadata": {
            "tags": []
          },
          "execution_count": 12
        }
      ]
    },
    {
      "cell_type": "code",
      "metadata": {
        "id": "s4LN_hYGGo2n"
      },
      "source": [
        "english_text_ = [x.lower() for x in english_text]\n",
        "marathi_text_ = [x.lower() for x in marathi_text]"
      ],
      "execution_count": 13,
      "outputs": []
    },
    {
      "cell_type": "code",
      "metadata": {
        "id": "pr5CfqTsGsiF"
      },
      "source": [
        "english_text_ = [re.sub(\"'\",'',x) for x in english_text_]\n",
        "marathi_text_ = [re.sub(\"'\",'',x) for x in marathi_text_]"
      ],
      "execution_count": 14,
      "outputs": []
    },
    {
      "cell_type": "code",
      "metadata": {
        "id": "A6tuvUFiGxP5"
      },
      "source": [
        "def remove_punc(text_list):\n",
        "  table = str.maketrans('', '', string.punctuation)\n",
        "  removed_punc_text = []\n",
        "  for sent in text_list:\n",
        "    sentance = [w.translate(table) for w in sent.split(' ')]\n",
        "    removed_punc_text.append(' '.join(sentance))\n",
        "  return removed_punc_text\n",
        "english_text_ = remove_punc(english_text_)\n",
        "marathi_text_ = remove_punc(marathi_text_)"
      ],
      "execution_count": 15,
      "outputs": []
    },
    {
      "cell_type": "code",
      "metadata": {
        "id": "tOlLIwBdGzo0"
      },
      "source": [
        "remove_digits = str.maketrans('', '', digits)\n",
        "removed_digits_text = []\n",
        "for sent in english_text_:\n",
        "  sentance = [w.translate(remove_digits) for w in sent.split(' ')]\n",
        "  removed_digits_text.append(' '.join(sentance))\n",
        "english_text_ = removed_digits_text\n",
        "\n",
        "# removing the digits from the marathi sentances\n",
        "marathi_text_ = [re.sub(\"[२३०८१५७९४६]\",\"\",x) for x in marathi_text_]\n",
        "marathi_text_ = [re.sub(\"[\\u200d]\",\"\",x) for x in marathi_text_]\n",
        "\n",
        "# removing the stating and ending whitespaces\n",
        "english_text_ = [x.strip() for x in english_text_]\n",
        "marathi_text_ = [x.strip() for x in marathi_text_]"
      ],
      "execution_count": 16,
      "outputs": []
    },
    {
      "cell_type": "code",
      "metadata": {
        "id": "EwnF9056G1Wn"
      },
      "source": [
        "# removing the starting and ending whitespaces\n",
        "english_text_ = [x.strip() for x in english_text_]\n",
        "marathi_text_ = [x.strip() for x in marathi_text_]"
      ],
      "execution_count": 17,
      "outputs": []
    },
    {
      "cell_type": "markdown",
      "metadata": {
        "id": "-V9ZRkTmj6G7"
      },
      "source": [
        "Adding ‘start’ and ‘end’ tag to marathi sentence. This will help the decoder to know from where to start decoding and when to end."
      ]
    },
    {
      "cell_type": "code",
      "metadata": {
        "id": "7LGnmEACG4fM"
      },
      "source": [
        "# Putting the start and end words in the marathi sentances\n",
        "marathi_text_ = [\"start \" + x + \" end\" for x in marathi_text_]"
      ],
      "execution_count": 18,
      "outputs": []
    },
    {
      "cell_type": "code",
      "metadata": {
        "id": "37N5R59xG6Rb",
        "outputId": "4a115d79-b8a3-4d78-b529-08b3ada48538",
        "colab": {
          "base_uri": "https://localhost:8080/"
        }
      },
      "source": [
        "# manipulated_marathi_text_\n",
        "marathi_text_[0], english_text_[0]"
      ],
      "execution_count": 19,
      "outputs": [
        {
          "output_type": "execute_result",
          "data": {
            "text/plain": [
              "('start जा end', 'go')"
            ]
          },
          "metadata": {
            "tags": []
          },
          "execution_count": 19
        }
      ]
    },
    {
      "cell_type": "code",
      "metadata": {
        "id": "yIMWLghNG7qc",
        "outputId": "2cf67670-da00-4baf-c431-2e46622b73a9",
        "colab": {
          "base_uri": "https://localhost:8080/"
        }
      },
      "source": [
        "# manipulated_marathi_text_\n",
        "marathi_text_[0], english_text_[0]"
      ],
      "execution_count": 20,
      "outputs": [
        {
          "output_type": "execute_result",
          "data": {
            "text/plain": [
              "('start जा end', 'go')"
            ]
          },
          "metadata": {
            "tags": []
          },
          "execution_count": 20
        }
      ]
    },
    {
      "cell_type": "markdown",
      "metadata": {
        "id": "88fXDfW1kAwI"
      },
      "source": [
        "#Data Preparation: Train/Test Data Split"
      ]
    },
    {
      "cell_type": "code",
      "metadata": {
        "id": "e7tbAv_wG9Xj"
      },
      "source": [
        "\n",
        "X = english_text_\n",
        "Y = marathi_text_"
      ],
      "execution_count": 21,
      "outputs": []
    },
    {
      "cell_type": "code",
      "metadata": {
        "id": "K_cSlHB_G_Fi",
        "outputId": "d1f05345-177e-4e99-c8dd-fbf722d57abb",
        "colab": {
          "base_uri": "https://localhost:8080/"
        }
      },
      "source": [
        "X_train, X_test, y_train, y_test = train_test_split(X,Y,test_size = 0.1)\n",
        "len(X_train),len(y_train), len(X_test), len(y_test)"
      ],
      "execution_count": 22,
      "outputs": [
        {
          "output_type": "execute_result",
          "data": {
            "text/plain": [
              "(34825, 34825, 3870, 3870)"
            ]
          },
          "metadata": {
            "tags": []
          },
          "execution_count": 22
        }
      ]
    },
    {
      "cell_type": "code",
      "metadata": {
        "id": "ZIxnnLAUHGi6",
        "outputId": "7b5ddb03-fcb3-466e-fae9-39b151771b78",
        "colab": {
          "base_uri": "https://localhost:8080/"
        }
      },
      "source": [
        "\n",
        "X_train[0], y_train[0]"
      ],
      "execution_count": 23,
      "outputs": [
        {
          "output_type": "execute_result",
          "data": {
            "text/plain": [
              "('i was speaking to you', 'start मी तुझ्याशी बोलत होते end')"
            ]
          },
          "metadata": {
            "tags": []
          },
          "execution_count": 23
        }
      ]
    },
    {
      "cell_type": "markdown",
      "metadata": {
        "id": "tXR8amUzkKQq"
      },
      "source": [
        "Determine the maximum length of our sentences in both English and Marathi."
      ]
    },
    {
      "cell_type": "code",
      "metadata": {
        "id": "6KHSf9EVHJj-"
      },
      "source": [
        "\n",
        "def Max_length(data):\n",
        "  max_length_ = max([len(x.split(' ')) for x in data])\n",
        "  return max_length_\n",
        "\n",
        "#Training data\n",
        "max_length_english = Max_length(X_train)\n",
        "max_length_marathi = Max_length(y_train)\n",
        "\n",
        "#Test data\n",
        "max_length_english_test = Max_length(X_test)\n",
        "max_length_marathi_test = Max_length(y_test)"
      ],
      "execution_count": 24,
      "outputs": []
    },
    {
      "cell_type": "code",
      "metadata": {
        "id": "Zi2m41meHNBh",
        "outputId": "d23959c2-e7fb-42c9-de79-3032252bc497",
        "colab": {
          "base_uri": "https://localhost:8080/"
        }
      },
      "source": [
        "max_length_marathi, max_length_english\n"
      ],
      "execution_count": 25,
      "outputs": [
        {
          "output_type": "execute_result",
          "data": {
            "text/plain": [
              "(14, 12)"
            ]
          },
          "metadata": {
            "tags": []
          },
          "execution_count": 25
        }
      ]
    },
    {
      "cell_type": "markdown",
      "metadata": {
        "id": "sh2TF6I0kO9m"
      },
      "source": [
        "### Tokenization"
      ]
    },
    {
      "cell_type": "markdown",
      "metadata": {
        "id": "9c9GdLQXkS5V"
      },
      "source": [
        "As a neural network requires numerical data to process, it becomes necessary to convert our string input to a numerical list. So we use Tokenizer provided by keras-preprocessing library. It is also important to have an equal length of all input sequences in sequence-to-sequence models. So, we will pad extra ‘0s’ to make the sequence of the same length. This would be done by pad_sequence."
      ]
    },
    {
      "cell_type": "code",
      "metadata": {
        "id": "-jWoD4HnHOyG"
      },
      "source": [
        "englishTokenizer = Tokenizer()\n",
        "englishTokenizer.fit_on_texts(X_train)\n",
        "Eword2index = englishTokenizer.word_index\n",
        "vocab_size_source = len(Eword2index) + 1\n",
        "\n",
        "X_train = englishTokenizer.texts_to_sequences(X_train)\n",
        "X_train = pad_sequences(X_train, maxlen=max_length_english, padding='post')\n",
        "\n",
        "X_test = englishTokenizer.texts_to_sequences(X_test)\n",
        "X_test = pad_sequences(X_test, maxlen = max_length_english, padding='post')\n"
      ],
      "execution_count": 26,
      "outputs": []
    },
    {
      "cell_type": "code",
      "metadata": {
        "id": "e_XScLyNICD9"
      },
      "source": [
        "marathiTokenizer = Tokenizer()\n",
        "marathiTokenizer.fit_on_texts(y_train)\n",
        "Mword2index = marathiTokenizer.word_index\n",
        "vocab_size_target = len(Mword2index) + 1\n",
        "\n",
        "y_train = marathiTokenizer.texts_to_sequences(y_train)\n",
        "y_train = pad_sequences(y_train, maxlen=max_length_marathi, padding='post')\n",
        "\n",
        "y_test = marathiTokenizer.texts_to_sequences(y_test)\n",
        "y_test = pad_sequences(y_test, maxlen = max_length_marathi, padding='post')\n"
      ],
      "execution_count": 27,
      "outputs": []
    },
    {
      "cell_type": "code",
      "metadata": {
        "id": "6Su1LTElIQut",
        "outputId": "469d0141-6747-4542-815f-54e9a617869b",
        "colab": {
          "base_uri": "https://localhost:8080/"
        }
      },
      "source": [
        "vocab_size_source, vocab_size_target"
      ],
      "execution_count": 28,
      "outputs": [
        {
          "output_type": "execute_result",
          "data": {
            "text/plain": [
              "(4996, 11806)"
            ]
          },
          "metadata": {
            "tags": []
          },
          "execution_count": 28
        }
      ]
    },
    {
      "cell_type": "markdown",
      "metadata": {
        "id": "ldPimKbSkXl4"
      },
      "source": [
        "To save our preprocessing time whenever we reuse it again in future, we will save our important attributes. So, we will do it with the help of pickle library."
      ]
    },
    {
      "cell_type": "code",
      "metadata": {
        "id": "5RtXpddyIUpw"
      },
      "source": [
        "with open('NMT_data.pkl','wb') as f:\n",
        "  pkl.dump([X_train, y_train, X_test, y_test],f)\n"
      ],
      "execution_count": 29,
      "outputs": []
    },
    {
      "cell_type": "code",
      "metadata": {
        "id": "TtwW_BJgIpDr"
      },
      "source": [
        "with open('NMT_Etokenizer.pkl','wb') as f:\n",
        "  pkl.dump([vocab_size_source, Eword2index, englishTokenizer], f)\n",
        "\n",
        "with open('NMT_Mtokenizer.pkl', 'wb') as f:\n",
        "  pkl.dump([vocab_size_target, Mword2index, marathiTokenizer], f)"
      ],
      "execution_count": 30,
      "outputs": []
    },
    {
      "cell_type": "code",
      "metadata": {
        "id": "JvPpqk57KKtT",
        "outputId": "93ef98f6-1a5e-456a-f731-bca8c61987c5",
        "colab": {
          "base_uri": "https://localhost:8080/"
        }
      },
      "source": [
        "X_train[0], y_train[0]"
      ],
      "execution_count": 31,
      "outputs": [
        {
          "output_type": "execute_result",
          "data": {
            "text/plain": [
              "(array([  1,  16, 701,   5,   3,   0,   0,   0,   0,   0,   0,   0],\n",
              "       dtype=int32),\n",
              " array([  1,   4, 482, 220,  67,   2,   0,   0,   0,   0,   0,   0,   0,\n",
              "          0], dtype=int32))"
            ]
          },
          "metadata": {
            "tags": []
          },
          "execution_count": 31
        }
      ]
    },
    {
      "cell_type": "code",
      "metadata": {
        "id": "jkZBXBgrKU2X"
      },
      "source": [
        "X_train = np.array(X_train)\n",
        "y_train = np.array(y_train)\n",
        "X_test = np.array(X_test)\n",
        "y_test = np.array(y_test)"
      ],
      "execution_count": 32,
      "outputs": []
    },
    {
      "cell_type": "code",
      "metadata": {
        "id": "eJ4-JqNcKnE-",
        "outputId": "a3d478e8-6ba2-4fb2-c914-b5c06fe38903",
        "colab": {
          "base_uri": "https://localhost:8080/"
        }
      },
      "source": [
        "X_train[0], y_train[0]"
      ],
      "execution_count": 33,
      "outputs": [
        {
          "output_type": "execute_result",
          "data": {
            "text/plain": [
              "(array([  1,  16, 701,   5,   3,   0,   0,   0,   0,   0,   0,   0],\n",
              "       dtype=int32),\n",
              " array([  1,   4, 482, 220,  67,   2,   0,   0,   0,   0,   0,   0,   0,\n",
              "          0], dtype=int32))"
            ]
          },
          "metadata": {
            "tags": []
          },
          "execution_count": 33
        }
      ]
    },
    {
      "cell_type": "markdown",
      "metadata": {
        "id": "4uY5H4BOkbqq"
      },
      "source": [
        "#Build the Model"
      ]
    },
    {
      "cell_type": "markdown",
      "metadata": {
        "id": "svx3nlG9lKPw"
      },
      "source": [
        "Instead of a simple encoder-decoder architecture, we used Attention Mechanism. Keras does not officially support attention layer. So, we can either implement our own attention layer or use a third-party implementation. For now, we used a third party attention mechanism. we also uploaded 'attention.py' file to the local. This attention is an implementation of ‘Bahdanau Attention’ ."
      ]
    },
    {
      "cell_type": "code",
      "metadata": {
        "id": "LABJfJNZMmxt",
        "outputId": "1fcbdcee-b9f2-4b63-a83c-0e2548ab1f3d",
        "colab": {
          "base_uri": "https://localhost:8080/"
        }
      },
      "source": [
        "from keras import backend as K \n",
        "K.clear_session() \n",
        "latent_dim = 500 \n",
        "\n",
        "# Encoder \n",
        "encoder_inputs = Input(shape=(max_length_english,)) \n",
        "enc_emb = Embedding(vocab_size_source, latent_dim,trainable=True)(encoder_inputs) \n",
        "\n",
        "#LSTM 1 \n",
        "encoder_lstm1 = LSTM(latent_dim,return_sequences=True,return_state=True) \n",
        "encoder_output1, state_h1, state_c1 = encoder_lstm1(enc_emb) \n",
        "\n",
        "#LSTM 2 \n",
        "encoder_lstm2 = LSTM(latent_dim,return_sequences=True,return_state=True) \n",
        "encoder_output2, state_h2, state_c2 = encoder_lstm2(encoder_output1) \n",
        "\n",
        "#LSTM 3 \n",
        "encoder_lstm3=LSTM(latent_dim, return_state=True, return_sequences=True) \n",
        "encoder_outputs, state_h, state_c= encoder_lstm3(encoder_output2) \n",
        "\n",
        "# Set up the decoder. \n",
        "decoder_inputs = Input(shape=(None,)) \n",
        "dec_emb_layer = Embedding(vocab_size_target, latent_dim,trainable=True) \n",
        "dec_emb = dec_emb_layer(decoder_inputs) \n",
        "\n",
        "#LSTM using encoder_states as initial state\n",
        "decoder_lstm = LSTM(latent_dim, return_sequences=True, return_state=True) \n",
        "decoder_outputs,decoder_fwd_state, decoder_back_state = decoder_lstm(dec_emb,initial_state=[state_h, state_c]) \n",
        "\n",
        "#Attention Layer\n",
        "attn_layer = AttentionLayer(name='attention_layer') \n",
        "attn_out, attn_states = attn_layer([encoder_outputs, decoder_outputs]) \n",
        "\n",
        "# Concat attention output and decoder LSTM output \n",
        "decoder_concat_input = Concatenate(axis=-1, name='concat_layer')([decoder_outputs, attn_out])\n",
        "\n",
        "#Dense layer\n",
        "decoder_dense = TimeDistributed(Dense(vocab_size_target, activation='softmax')) \n",
        "decoder_outputs = decoder_dense(decoder_concat_input) \n",
        "\n",
        "# Define the model\n",
        "model = Model([encoder_inputs, decoder_inputs], decoder_outputs) \n",
        "model.summary()"
      ],
      "execution_count": 34,
      "outputs": [
        {
          "output_type": "stream",
          "text": [
            "Model: \"functional_1\"\n",
            "__________________________________________________________________________________________________\n",
            "Layer (type)                    Output Shape         Param #     Connected to                     \n",
            "==================================================================================================\n",
            "input_1 (InputLayer)            [(None, 12)]         0                                            \n",
            "__________________________________________________________________________________________________\n",
            "embedding (Embedding)           (None, 12, 500)      2498000     input_1[0][0]                    \n",
            "__________________________________________________________________________________________________\n",
            "lstm (LSTM)                     [(None, 12, 500), (N 2002000     embedding[0][0]                  \n",
            "__________________________________________________________________________________________________\n",
            "input_2 (InputLayer)            [(None, None)]       0                                            \n",
            "__________________________________________________________________________________________________\n",
            "lstm_1 (LSTM)                   [(None, 12, 500), (N 2002000     lstm[0][0]                       \n",
            "__________________________________________________________________________________________________\n",
            "embedding_1 (Embedding)         (None, None, 500)    5903000     input_2[0][0]                    \n",
            "__________________________________________________________________________________________________\n",
            "lstm_2 (LSTM)                   [(None, 12, 500), (N 2002000     lstm_1[0][0]                     \n",
            "__________________________________________________________________________________________________\n",
            "lstm_3 (LSTM)                   [(None, None, 500),  2002000     embedding_1[0][0]                \n",
            "                                                                 lstm_2[0][1]                     \n",
            "                                                                 lstm_2[0][2]                     \n",
            "__________________________________________________________________________________________________\n",
            "attention_layer (AttentionLayer ((None, None, 500),  500500      lstm_2[0][0]                     \n",
            "                                                                 lstm_3[0][0]                     \n",
            "__________________________________________________________________________________________________\n",
            "concat_layer (Concatenate)      (None, None, 1000)   0           lstm_3[0][0]                     \n",
            "                                                                 attention_layer[0][0]            \n",
            "__________________________________________________________________________________________________\n",
            "time_distributed (TimeDistribut (None, None, 11806)  11817806    concat_layer[0][0]               \n",
            "==================================================================================================\n",
            "Total params: 28,727,306\n",
            "Trainable params: 28,727,306\n",
            "Non-trainable params: 0\n",
            "__________________________________________________________________________________________________\n"
          ],
          "name": "stdout"
        }
      ]
    },
    {
      "cell_type": "code",
      "metadata": {
        "id": "m-IsKDGnK9ik",
        "outputId": "6f3dafa4-8326-40c8-8526-a447b0d96a01",
        "colab": {
          "base_uri": "https://localhost:8080/",
          "height": 975
        }
      },
      "source": [
        "plot_model(model, to_file='train_model.png', show_shapes=True)\n"
      ],
      "execution_count": 35,
      "outputs": [
        {
          "output_type": "execute_result",
          "data": {
            "image/png": "[encoded data removed]",
            "text/plain": [
              "<IPython.core.display.Image object>"
            ]
          },
          "metadata": {
            "tags": []
          },
          "execution_count": 35
        }
      ]
    },
    {
      "cell_type": "markdown",
      "metadata": {
        "id": "RukQFqyBlVea"
      },
      "source": [
        "#Compile the Model"
      ]
    },
    {
      "cell_type": "code",
      "metadata": {
        "id": "BFANNvJuN2Dc"
      },
      "source": [
        "model.compile(optimizer='rmsprop', loss='sparse_categorical_crossentropy', metrics=['accuracy'])\n"
      ],
      "execution_count": 36,
      "outputs": []
    },
    {
      "cell_type": "code",
      "metadata": {
        "id": "AJLBBzNgNevf"
      },
      "source": [
        "es = EarlyStopping(monitor='val_loss', mode='min', verbose=1)"
      ],
      "execution_count": 37,
      "outputs": []
    },
    {
      "cell_type": "markdown",
      "metadata": {
        "id": "0VToDSKbldLS"
      },
      "source": [
        "We are using ‘Teacher Forcing’ technique for faster training of our model. In the teacher forcing method, we also pass the target data as the input to the decoder. For example, if we are going to predict ‘hello’, then we will pass ‘hello’ itself as an input to the decoder. Due to this it makes the learning process faster."
      ]
    },
    {
      "cell_type": "markdown",
      "metadata": {
        "id": "Ahtqy3CnlXzF"
      },
      "source": [
        "#Fit the Model"
      ]
    },
    {
      "cell_type": "code",
      "metadata": {
        "id": "X_65vQcaNBCj",
        "outputId": "e836cc44-4090-47ad-c753-570c7cbf25db",
        "colab": {
          "base_uri": "https://localhost:8080/"
        }
      },
      "source": [
        "history = model.fit([X_train, y_train[:,:-1]], y_train.reshape(y_train.shape[0], y_train.shape[1],1)[:,1:], \n",
        "                    epochs=200, \n",
        "                    callbacks=[es],\n",
        "                    batch_size=512,\n",
        "                    validation_data = ([X_test, y_test[:,:-1]], y_test.reshape(y_test.shape[0], y_test.shape[1], 1)[:,1:]))"
      ],
      "execution_count": 38,
      "outputs": [
        {
          "output_type": "stream",
          "text": [
            "Epoch 1/200\n",
            "69/69 [==============================] - 32s 463ms/step - loss: 2.8673 - accuracy: 0.6185 - val_loss: 2.2966 - val_accuracy: 0.6714\n",
            "Epoch 2/200\n",
            "69/69 [==============================] - 30s 437ms/step - loss: 2.2606 - accuracy: 0.6743 - val_loss: 2.1051 - val_accuracy: 0.6880\n",
            "Epoch 3/200\n",
            "69/69 [==============================] - 30s 431ms/step - loss: 2.0359 - accuracy: 0.6924 - val_loss: 1.9094 - val_accuracy: 0.7038\n",
            "Epoch 4/200\n",
            "69/69 [==============================] - 30s 438ms/step - loss: 1.8372 - accuracy: 0.7096 - val_loss: 1.8013 - val_accuracy: 0.7139\n",
            "Epoch 5/200\n",
            "69/69 [==============================] - 30s 436ms/step - loss: 1.6460 - accuracy: 0.7281 - val_loss: 1.6299 - val_accuracy: 0.7329\n",
            "Epoch 6/200\n",
            "69/69 [==============================] - 30s 434ms/step - loss: 1.4705 - accuracy: 0.7450 - val_loss: 1.5597 - val_accuracy: 0.7353\n",
            "Epoch 7/200\n",
            "69/69 [==============================] - 30s 434ms/step - loss: 1.3141 - accuracy: 0.7604 - val_loss: 1.4889 - val_accuracy: 0.7494\n",
            "Epoch 8/200\n",
            "69/69 [==============================] - 30s 434ms/step - loss: 1.1746 - accuracy: 0.7768 - val_loss: 1.3702 - val_accuracy: 0.7597\n",
            "Epoch 9/200\n",
            "69/69 [==============================] - 30s 433ms/step - loss: 1.0491 - accuracy: 0.7927 - val_loss: 1.3312 - val_accuracy: 0.7643\n",
            "Epoch 10/200\n",
            "69/69 [==============================] - 30s 432ms/step - loss: 0.9365 - accuracy: 0.8082 - val_loss: 1.2566 - val_accuracy: 0.7732\n",
            "Epoch 11/200\n",
            "69/69 [==============================] - 30s 431ms/step - loss: 0.8330 - accuracy: 0.8234 - val_loss: 1.1661 - val_accuracy: 0.7881\n",
            "Epoch 12/200\n",
            "69/69 [==============================] - 30s 431ms/step - loss: 0.7410 - accuracy: 0.8382 - val_loss: 1.1521 - val_accuracy: 0.7878\n",
            "Epoch 13/200\n",
            "69/69 [==============================] - 30s 429ms/step - loss: 0.6586 - accuracy: 0.8521 - val_loss: 1.1452 - val_accuracy: 0.7888\n",
            "Epoch 14/200\n",
            "69/69 [==============================] - 29s 427ms/step - loss: 0.5845 - accuracy: 0.8660 - val_loss: 1.0584 - val_accuracy: 0.8053\n",
            "Epoch 15/200\n",
            "69/69 [==============================] - 29s 427ms/step - loss: 0.5174 - accuracy: 0.8790 - val_loss: 1.0015 - val_accuracy: 0.8137\n",
            "Epoch 16/200\n",
            "69/69 [==============================] - 29s 426ms/step - loss: 0.4599 - accuracy: 0.8908 - val_loss: 1.0155 - val_accuracy: 0.8125\n",
            "Epoch 00016: early stopping\n"
          ],
          "name": "stdout"
        }
      ]
    },
    {
      "cell_type": "markdown",
      "metadata": {
        "id": "Svaaos8bls-Y"
      },
      "source": [
        "#Save model"
      ]
    },
    {
      "cell_type": "markdown",
      "metadata": {
        "id": "YcmfqB-RlzGV"
      },
      "source": [
        "save our trained model with proper weights"
      ]
    },
    {
      "cell_type": "code",
      "metadata": {
        "id": "RVIwf9GPOTia",
        "outputId": "0300fb71-08ed-4944-9720-70f4a9f2e462",
        "colab": {
          "base_uri": "https://localhost:8080/"
        }
      },
      "source": [
        "model_json = model.to_json()\n",
        "with open(\"NMT_model.json\", \"w\") as json_file:\n",
        "    json_file.write(model_json)\n",
        "# serialize weights to HDF5\n",
        "model.save_weights(\"NMT_model_weight.h5\")\n",
        "print(\"Saved model to disk\")"
      ],
      "execution_count": 49,
      "outputs": [
        {
          "output_type": "stream",
          "text": [
            "Saved model to disk\n"
          ],
          "name": "stdout"
        }
      ]
    },
    {
      "cell_type": "code",
      "metadata": {
        "id": "ENT-k_uPRtxK"
      },
      "source": [
        "# loading the model architecture and asigning the weights\n",
        "json_file = open('NMT_model.json', 'r')\n",
        "loaded_model_json = json_file.read()\n",
        "json_file.close()\n",
        "model_loaded = model_from_json(loaded_model_json, custom_objects={'AttentionLayer': AttentionLayer})\n",
        "# load weights into new model\n",
        "model_loaded.load_weights(\"NMT_model_weight.h5\")"
      ],
      "execution_count": 50,
      "outputs": []
    },
    {
      "cell_type": "markdown",
      "metadata": {
        "id": "stUsWOrjlv-F"
      },
      "source": [
        "#Plot the loss"
      ]
    },
    {
      "cell_type": "code",
      "metadata": {
        "id": "ELszk8xxRziN",
        "outputId": "e14e690c-fa34-4cfb-bc1e-922d9138e951",
        "colab": {
          "base_uri": "https://localhost:8080/",
          "height": 263
        }
      },
      "source": [
        "from matplotlib import pyplot \n",
        "pyplot.plot(history.history['loss'], label='train') \n",
        "pyplot.plot(history.history['val_loss'], label='test') \n",
        "pyplot.legend() \n",
        "pyplot.show()"
      ],
      "execution_count": 51,
      "outputs": [
        {
          "output_type": "display_data",
          "data": {
            "image/png": "[encoded data removed]",
            "text/plain": [
              "<Figure size 432x288 with 1 Axes>"
            ]
          },
          "metadata": {
            "tags": [],
            "needs_background": "light"
          }
        }
      ]
    },
    {
      "cell_type": "markdown",
      "metadata": {
        "id": "gLc-ZLLVlkpF"
      },
      "source": [
        "Above is the loss difference in both training and validation phase "
      ]
    },
    {
      "cell_type": "code",
      "metadata": {
        "id": "5upjUHyaSEsU"
      },
      "source": [
        "with open('NMT_Etokenizer.pkl','rb') as f:\n",
        "  vocab_size_source, Eword2index, englishTokenizer = pkl.load(f)\n",
        "\n",
        "with open('NMT_Mtokenizer.pkl', 'rb') as f:\n",
        "  vocab_size_target, Mword2index, marathiTokenizer = pkl.load(f)\n",
        "\n",
        "with open('NMT_data.pkl','rb') as f:\n",
        "  X_train, y_train, X_test, y_test = pkl.load(f)"
      ],
      "execution_count": 52,
      "outputs": []
    },
    {
      "cell_type": "markdown",
      "metadata": {
        "id": "HIuUv4HgmMej"
      },
      "source": [
        "Forming reverse Vocabulary"
      ]
    },
    {
      "cell_type": "code",
      "metadata": {
        "id": "0VIhrLXeSWbV"
      },
      "source": [
        "Eindex2word = englishTokenizer.index_word\n",
        "Mindex2word = marathiTokenizer.index_word"
      ],
      "execution_count": 53,
      "outputs": []
    },
    {
      "cell_type": "code",
      "metadata": {
        "id": "LkquFI06gMQ0",
        "outputId": "f3f7d194-c08e-454c-b048-cbc5d87e3049",
        "colab": {
          "base_uri": "https://localhost:8080/"
        }
      },
      "source": [
        "model_loaded.summary()"
      ],
      "execution_count": 54,
      "outputs": [
        {
          "output_type": "stream",
          "text": [
            "Model: \"functional_1\"\n",
            "__________________________________________________________________________________________________\n",
            "Layer (type)                    Output Shape         Param #     Connected to                     \n",
            "==================================================================================================\n",
            "input_1 (InputLayer)            [(None, 12)]         0                                            \n",
            "__________________________________________________________________________________________________\n",
            "embedding (Embedding)           (None, 12, 500)      2498000     input_1[0][0]                    \n",
            "__________________________________________________________________________________________________\n",
            "lstm (LSTM)                     [(None, 12, 500), (N 2002000     embedding[0][0]                  \n",
            "__________________________________________________________________________________________________\n",
            "input_2 (InputLayer)            [(None, None)]       0                                            \n",
            "__________________________________________________________________________________________________\n",
            "lstm_1 (LSTM)                   [(None, 12, 500), (N 2002000     lstm[0][0]                       \n",
            "__________________________________________________________________________________________________\n",
            "embedding_1 (Embedding)         (None, None, 500)    5903000     input_2[0][0]                    \n",
            "__________________________________________________________________________________________________\n",
            "lstm_2 (LSTM)                   [(None, 12, 500), (N 2002000     lstm_1[0][0]                     \n",
            "__________________________________________________________________________________________________\n",
            "lstm_3 (LSTM)                   [(None, None, 500),  2002000     embedding_1[0][0]                \n",
            "                                                                 lstm_2[0][1]                     \n",
            "                                                                 lstm_2[0][2]                     \n",
            "__________________________________________________________________________________________________\n",
            "attention_layer (AttentionLayer ((None, None, 500),  500500      lstm_2[0][0]                     \n",
            "                                                                 lstm_3[0][0]                     \n",
            "__________________________________________________________________________________________________\n",
            "concat_layer (Concatenate)      (None, None, 1000)   0           lstm_3[0][0]                     \n",
            "                                                                 attention_layer[0][0]            \n",
            "__________________________________________________________________________________________________\n",
            "time_distributed (TimeDistribut (None, None, 11806)  11817806    concat_layer[0][0]               \n",
            "==================================================================================================\n",
            "Total params: 28,727,306\n",
            "Trainable params: 28,727,306\n",
            "Non-trainable params: 0\n",
            "__________________________________________________________________________________________________\n"
          ],
          "name": "stdout"
        }
      ]
    },
    {
      "cell_type": "markdown",
      "metadata": {
        "id": "LtD6EtTgl5L5"
      },
      "source": [
        "#Inference Model"
      ]
    },
    {
      "cell_type": "markdown",
      "metadata": {
        "id": "j8D_ebGel7QF"
      },
      "source": [
        "In machine learning we use inference model to predict our output sequences by considering weights from a pre-trained model. In other terms, it can be said that its a model that deduces properties that are learned in training phase and are now used for predicting new sequences.\n"
      ]
    },
    {
      "cell_type": "code",
      "metadata": {
        "id": "93UwmPxwSg3s",
        "outputId": "72445ad2-c1cf-4f84-9d04-2573892f498f",
        "colab": {
          "base_uri": "https://localhost:8080/"
        }
      },
      "source": [
        "latent_dim=500\n",
        "# encoder inference\n",
        "encoder_inputs = model_loaded.input[0]  #loading encoder_inputs\n",
        "encoder_outputs, state_h, state_c = model_loaded.layers[6].output #loading encoder_outputs\n",
        "\n",
        "print(encoder_outputs.shape)\n",
        "\n",
        "encoder_model = Model(inputs=encoder_inputs,outputs=[encoder_outputs, state_h, state_c])\n",
        "\n",
        "# decoder inference\n",
        "# Below tensors will hold the states of the previous time step\n",
        "decoder_state_input_h = Input(shape=(latent_dim,))\n",
        "decoder_state_input_c = Input(shape=(latent_dim,))\n",
        "decoder_hidden_state_input = Input(shape=(32,latent_dim))\n",
        "\n",
        "# Get the embeddings of the decoder sequence\n",
        "decoder_inputs = model_loaded.layers[3].output\n",
        "\n",
        "print(decoder_inputs.shape)\n",
        "dec_emb_layer = model_loaded.layers[5]\n",
        "\n",
        "dec_emb2= dec_emb_layer(decoder_inputs)\n",
        "\n",
        "# To predict the next word in the sequence, set the initial states to the states from the previous time step\n",
        "decoder_lstm = model_loaded.layers[7]\n",
        "decoder_outputs2, state_h2, state_c2 = decoder_lstm(dec_emb2, initial_state=[decoder_state_input_h, decoder_state_input_c])\n",
        "\n",
        "#attention inference\n",
        "attn_layer = model_loaded.layers[8]\n",
        "attn_out_inf, attn_states_inf = attn_layer([decoder_hidden_state_input, decoder_outputs2])\n",
        "\n",
        "concate = model_loaded.layers[9]\n",
        "decoder_inf_concat = concate([decoder_outputs2, attn_out_inf])\n",
        "\n",
        "# A dense softmax layer to generate prob dist. over the target vocabulary\n",
        "decoder_dense = model_loaded.layers[10]\n",
        "decoder_outputs2 = decoder_dense(decoder_inf_concat)\n",
        "\n",
        "# Final decoder model\n",
        "decoder_model = Model(\n",
        "[decoder_inputs] + [decoder_hidden_state_input,decoder_state_input_h, decoder_state_input_c],\n",
        "[decoder_outputs2] + [state_h2, state_c2])"
      ],
      "execution_count": 55,
      "outputs": [
        {
          "output_type": "stream",
          "text": [
            "(None, 12, 500)\n",
            "(None, None)\n"
          ],
          "name": "stdout"
        }
      ]
    },
    {
      "cell_type": "markdown",
      "metadata": {
        "id": "9d95p7eZmCXV"
      },
      "source": [
        "#Predictions"
      ]
    },
    {
      "cell_type": "markdown",
      "metadata": {
        "id": "HmokFlsLmEXq"
      },
      "source": [
        "Now we have trained the sequence to sequence model and created the inference model using the trained model for making a prediction. Let’s predict some Marathi sentences from the English sentences."
      ]
    },
    {
      "cell_type": "code",
      "metadata": {
        "id": "gjJnpHaLSraf"
      },
      "source": [
        "def decode_sequence(input_seq):\n",
        "    # Encode the input as state vectors.\n",
        "    e_out, e_h, e_c = encoder_model.predict(input_seq)\n",
        "\n",
        "    # Generate empty target sequence of length 1.\n",
        "    target_seq = np.zeros((1,1))\n",
        "\n",
        "    # Chose the 'start' word as the first word of the target sequence\n",
        "    target_seq[0, 0] = Mword2index['start']\n",
        "\n",
        "    stop_condition = False\n",
        "    decoded_sentence = ''\n",
        "    while not stop_condition:\n",
        "        output_tokens, h, c = decoder_model.predict([target_seq] + [e_out, e_h, e_c])\n",
        "\n",
        "        # Sample a token\n",
        "        sampled_token_index = np.argmax(output_tokens[0, -1, :])\n",
        "        if sampled_token_index == 0:\n",
        "          break\n",
        "        else:\n",
        "          sampled_token = Mindex2word[sampled_token_index]\n",
        "\n",
        "          if(sampled_token!='end'):\n",
        "              decoded_sentence += ' '+sampled_token\n",
        "\n",
        "              # Exit condition: either hit max length or find stop word.\n",
        "              if (sampled_token == 'end' or len(decoded_sentence.split()) >= (26-1)):\n",
        "                  stop_condition = True\n",
        "\n",
        "          # Update the target sequence (of length 1).\n",
        "          target_seq = np.zeros((1,1))\n",
        "          target_seq[0, 0] = sampled_token_index\n",
        "\n",
        "          # Update internal states\n",
        "          e_h, e_c = h, c\n",
        "\n",
        "    return decoded_sentence"
      ],
      "execution_count": 56,
      "outputs": []
    },
    {
      "cell_type": "markdown",
      "metadata": {
        "id": "OhgS8RMCmS7W"
      },
      "source": [
        "Some transformation before giving a string to the function:"
      ]
    },
    {
      "cell_type": "code",
      "metadata": {
        "id": "TOaWp74qTMl8"
      },
      "source": [
        "def seq2summary(input_seq):\n",
        "    newString=''\n",
        "    for i in input_seq:\n",
        "      if((i!=0 and i!=Mword2index['start']) and i!=Mword2index['end']):\n",
        "        newString=newString+Mindex2word[i]+' '\n",
        "    return newString\n",
        "\n",
        "def seq2text(input_seq):\n",
        "    newString=''\n",
        "    for i in input_seq:\n",
        "      if(i!=0):\n",
        "        newString=newString+Eindex2word[i]+' '\n",
        "    return newString"
      ],
      "execution_count": 57,
      "outputs": []
    },
    {
      "cell_type": "markdown",
      "metadata": {
        "id": "L0GQqlYtmXz6"
      },
      "source": [
        "Call the necessary functions and let’s test our translation model:"
      ]
    },
    {
      "cell_type": "code",
      "metadata": {
        "id": "IPE51LS4TB2D",
        "outputId": "36cbd1a7-e113-4571-853e-4f6a0a991dc1",
        "colab": {
          "base_uri": "https://localhost:8080/"
        }
      },
      "source": [
        "for i in range(10):\n",
        "  \n",
        "  print(\"Review:\",seq2text(X_test[i]))\n",
        "  print(\"Original summary:\",seq2summary(y_test[i]))\n",
        "  print(\"Predicted summary:\",decode_sequence(X_test[i].reshape(1,12)))\n",
        "  print(\"\\n\")"
      ],
      "execution_count": 58,
      "outputs": [
        {
          "output_type": "stream",
          "text": [
            "Review: i have one brother \n",
            "Original summary: माझा एक भाऊ आहे \n",
            "WARNING:tensorflow:Model was constructed with shape (None, 32, 500) for input Tensor(\"input_8:0\", shape=(None, 32, 500), dtype=float32), but it was called on an input with incompatible shape (None, 12, 500).\n",
            "Predicted summary:  माझ्याकडे एक भाऊ आहे\n",
            "\n",
            "\n",
            "Review: i was drinking milk \n",
            "Original summary: मी दूध पित होतो \n",
            "Predicted summary:  मी दूध प्यायलो\n",
            "\n",
            "\n",
            "Review: everyone else is sleeping \n",
            "Original summary: बाकी सर्व झोपले आहेत \n",
            "Predicted summary:  टॉम सोडून गेला\n",
            "\n",
            "\n",
            "Review: give me your book \n",
            "Original summary: मला तुमचं पुस्तक द्या \n",
            "Predicted summary:  तुझं पुस्तक द्या मला\n",
            "\n",
            "\n",
            "Review: tom lives in another city \n",
            "Original summary: टॉम एका दुसर्या शहरात राहतो \n",
            "Predicted summary:  टॉम शहरात राहतो\n",
            "\n",
            "\n",
            "Review: i had a terrible dream \n",
            "Original summary: मला एक भयानक स्वप्न पडलेलं \n",
            "Predicted summary:  मला एक विचित्र स्वप्न पडलं\n",
            "\n",
            "\n",
            "Review: i met tom at the airport \n",
            "Original summary: मी टॉमला विमानतळावर भेटलो \n",
            "Predicted summary:  मी टॉमला आधी भेटले\n",
            "\n",
            "\n",
            "Review: this isnt what i ordered \n",
            "Original summary: मी हे मागवलं नव्हतं \n",
            "Predicted summary:  मी तुमचा आवाज मागितलं आहे ते मला कर\n",
            "\n",
            "\n",
            "Review: its sand \n",
            "Original summary: वाळू आहे \n",
            "Predicted summary:  ते आहे\n",
            "\n",
            "\n",
            "Review: you didnt tell me tom speaks french \n",
            "Original summary: टॉम फ्रेंच बोलतो हे तुम्ही मला सांगितलं नाहीत \n",
            "Predicted summary:  तू फ्रेंच का नाही केलंस हे तू मला सांगितलं\n",
            "\n",
            "\n"
          ],
          "name": "stdout"
        }
      ]
    },
    {
      "cell_type": "code",
      "metadata": {
        "id": "IzJkBArQTnZX"
      },
      "source": [
        ""
      ],
      "execution_count": 48,
      "outputs": []
    },
    {
      "cell_type": "code",
      "metadata": {
        "id": "RmIAlyxST20o"
      },
      "source": [
        ""
      ],
      "execution_count": 48,
      "outputs": []
    }
  ]
}