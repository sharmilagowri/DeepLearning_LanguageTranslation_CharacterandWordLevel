{
  "nbformat": 4,
  "nbformat_minor": 0,
  "metadata": {
    "colab": {
      "name": "Assignment3_Word_SharmilaGowri_3B.ipynb",
      "provenance": [],
      "collapsed_sections": []
    },
    "kernelspec": {
      "name": "python3",
      "display_name": "Python 3"
    }
  },
  "cells": [
    {
      "cell_type": "markdown",
      "metadata": {
        "id": "olYU6wVQwgg9"
      },
      "source": [
        "#Assignment -3\n",
        "#Sharmila Gowri Velugula - ku3936"
      ]
    },
    {
      "cell_type": "markdown",
      "metadata": {
        "id": "P1bUXLDlFOGP"
      },
      "source": [
        "#**3B) Seq2Seq Language Translation model for English - Marathi : Word Level**"
      ]
    },
    {
      "cell_type": "markdown",
      "metadata": {
        "id": "AEjfzlBMYk-V"
      },
      "source": [
        "Import Marathi text file.[mar.txt]"
      ]
    },
    {
      "cell_type": "markdown",
      "metadata": {
        "id": "-CxMPdnBFmkx"
      },
      "source": [
        "#Import Libraries"
      ]
    },
    {
      "cell_type": "code",
      "metadata": {
        "id": "PR1-A91MhRrV"
      },
      "source": [
        "import pandas as pd\n",
        "from sklearn.model_selection import train_test_split\n",
        "import string\n",
        "from string import digits\n",
        "import re\n",
        "from sklearn.utils import shuffle\n",
        "from keras.preprocessing.sequence import pad_sequences\n",
        "from keras.layers import LSTM, Input, Dense,Embedding\n",
        "from keras.models import Model,load_model\n",
        "from keras.utils import plot_model\n",
        "from keras.preprocessing.text import one_hot\n",
        "from keras.preprocessing.text import Tokenizer\n",
        "from keras.models import model_from_json\n",
        "import pickle as pkl\n",
        "import numpy as np"
      ],
      "execution_count": 1,
      "outputs": []
    },
    {
      "cell_type": "markdown",
      "metadata": {
        "id": "qra7Mrj7FpiD"
      },
      "source": [
        "#Load the Dataset"
      ]
    },
    {
      "cell_type": "code",
      "metadata": {
        "id": "LKEgVvd4hR9Q"
      },
      "source": [
        "with open('mar.txt','r') as f:\n",
        "  data = f.read()"
      ],
      "execution_count": 2,
      "outputs": []
    },
    {
      "cell_type": "code",
      "metadata": {
        "id": "QSYviUyFhSCn",
        "outputId": "30f21c08-d1f8-47ca-c697-1d204158998a",
        "colab": {
          "base_uri": "https://localhost:8080/"
        }
      },
      "source": [
        "len(data)"
      ],
      "execution_count": 3,
      "outputs": [
        {
          "output_type": "execute_result",
          "data": {
            "text/plain": [
              "5431289"
            ]
          },
          "metadata": {
            "tags": []
          },
          "execution_count": 3
        }
      ]
    },
    {
      "cell_type": "markdown",
      "metadata": {
        "id": "dXDmp7YCHR_R"
      },
      "source": [
        "#Data Cleaning"
      ]
    },
    {
      "cell_type": "markdown",
      "metadata": {
        "id": "NbJ9S1czHeMP"
      },
      "source": [
        "Here we split each line of the raw data text and storing it into the list named data_list. After that separated all the English and Marathi sentences and stored them into english_word and marathi_word list respectively and in the end, I have printed the total number of English sentences and Marathi sentences.\n"
      ]
    },
    {
      "cell_type": "code",
      "metadata": {
        "id": "V3zJGWK1hSBA",
        "outputId": "b17834c5-4a42-4732-d58f-88dd83962b30",
        "colab": {
          "base_uri": "https://localhost:8080/"
        }
      },
      "source": [
        "data_list = data.split('\\n')\n",
        "data_list = data_list[:38695]\n",
        "len(data_list)"
      ],
      "execution_count": 4,
      "outputs": [
        {
          "output_type": "execute_result",
          "data": {
            "text/plain": [
              "38695"
            ]
          },
          "metadata": {
            "tags": []
          },
          "execution_count": 4
        }
      ]
    },
    {
      "cell_type": "code",
      "metadata": {
        "id": "c-8HKekshR1m"
      },
      "source": [
        "english_word = []\n",
        "marathi_word = []\n",
        "cleaned_data_list = []\n",
        "for word in data_list:\n",
        "  english_word.append(word.split('\\t')[:-1][0])\n",
        "  marathi_word.append(word.split('\\t')[:-1][1])"
      ],
      "execution_count": 5,
      "outputs": []
    },
    {
      "cell_type": "code",
      "metadata": {
        "id": "dxypeZkthRzq",
        "outputId": "6bb0f7fe-e372-48bd-907d-298a69adbdf9",
        "colab": {
          "base_uri": "https://localhost:8080/"
        }
      },
      "source": [
        "len(english_word), len(marathi_word)"
      ],
      "execution_count": 6,
      "outputs": [
        {
          "output_type": "execute_result",
          "data": {
            "text/plain": [
              "(38695, 38695)"
            ]
          },
          "metadata": {
            "tags": []
          },
          "execution_count": 6
        }
      ]
    },
    {
      "cell_type": "markdown",
      "metadata": {
        "id": "eLy_KY_uHszY"
      },
      "source": [
        "After that,created a pandas DataFrame with two columns named English and Marathi and saved it as a CSV file."
      ]
    },
    {
      "cell_type": "code",
      "metadata": {
        "id": "yzIR5NfMhRxT"
      },
      "source": [
        "language_df = pd.DataFrame(columns=['English','Marathi'])\n",
        "language_df['English'] = english_word\n",
        "language_df['Marathi'] = marathi_word\n",
        "language_df.to_csv('language_df.csv', index=False)\n",
        "language_df = pd.read_csv('language_df.csv')"
      ],
      "execution_count": 7,
      "outputs": []
    },
    {
      "cell_type": "code",
      "metadata": {
        "id": "u44gZdNJh1kz",
        "outputId": "2075dd84-67d9-42dd-e96e-c386c1fc79c6",
        "colab": {
          "base_uri": "https://localhost:8080/",
          "height": 201
        }
      },
      "source": [
        "language_df.head()"
      ],
      "execution_count": 8,
      "outputs": [
        {
          "output_type": "execute_result",
          "data": {
            "text/html": [
              "<div>\n",
              "<style scoped>\n",
              "    .dataframe tbody tr th:only-of-type {\n",
              "        vertical-align: middle;\n",
              "    }\n",
              "\n",
              "    .dataframe tbody tr th {\n",
              "        vertical-align: top;\n",
              "    }\n",
              "\n",
              "    .dataframe thead th {\n",
              "        text-align: right;\n",
              "    }\n",
              "</style>\n",
              "<table border=\"1\" class=\"dataframe\">\n",
              "  <thead>\n",
              "    <tr style=\"text-align: right;\">\n",
              "      <th></th>\n",
              "      <th>English</th>\n",
              "      <th>Marathi</th>\n",
              "    </tr>\n",
              "  </thead>\n",
              "  <tbody>\n",
              "    <tr>\n",
              "      <th>0</th>\n",
              "      <td>Go.</td>\n",
              "      <td>जा.</td>\n",
              "    </tr>\n",
              "    <tr>\n",
              "      <th>1</th>\n",
              "      <td>Run!</td>\n",
              "      <td>पळ!</td>\n",
              "    </tr>\n",
              "    <tr>\n",
              "      <th>2</th>\n",
              "      <td>Run!</td>\n",
              "      <td>धाव!</td>\n",
              "    </tr>\n",
              "    <tr>\n",
              "      <th>3</th>\n",
              "      <td>Run!</td>\n",
              "      <td>पळा!</td>\n",
              "    </tr>\n",
              "    <tr>\n",
              "      <th>4</th>\n",
              "      <td>Run!</td>\n",
              "      <td>धावा!</td>\n",
              "    </tr>\n",
              "  </tbody>\n",
              "</table>\n",
              "</div>"
            ],
            "text/plain": [
              "  English Marathi\n",
              "0     Go.     जा.\n",
              "1    Run!     पळ!\n",
              "2    Run!    धाव!\n",
              "3    Run!    पळा!\n",
              "4    Run!   धावा!"
            ]
          },
          "metadata": {
            "tags": []
          },
          "execution_count": 8
        }
      ]
    },
    {
      "cell_type": "code",
      "metadata": {
        "id": "1yiypidph1zM",
        "outputId": "301b0837-f437-4d0e-fb0e-1e2647768797",
        "colab": {
          "base_uri": "https://localhost:8080/",
          "height": 201
        }
      },
      "source": [
        "language_df.tail()"
      ],
      "execution_count": 9,
      "outputs": [
        {
          "output_type": "execute_result",
          "data": {
            "text/html": [
              "<div>\n",
              "<style scoped>\n",
              "    .dataframe tbody tr th:only-of-type {\n",
              "        vertical-align: middle;\n",
              "    }\n",
              "\n",
              "    .dataframe tbody tr th {\n",
              "        vertical-align: top;\n",
              "    }\n",
              "\n",
              "    .dataframe thead th {\n",
              "        text-align: right;\n",
              "    }\n",
              "</style>\n",
              "<table border=\"1\" class=\"dataframe\">\n",
              "  <thead>\n",
              "    <tr style=\"text-align: right;\">\n",
              "      <th></th>\n",
              "      <th>English</th>\n",
              "      <th>Marathi</th>\n",
              "    </tr>\n",
              "  </thead>\n",
              "  <tbody>\n",
              "    <tr>\n",
              "      <th>38690</th>\n",
              "      <td>There were few students left in the classroom.</td>\n",
              "      <td>वर्गात काहीच विद्यार्थी राहिले होते.</td>\n",
              "    </tr>\n",
              "    <tr>\n",
              "      <th>38691</th>\n",
              "      <td>There were more than fifty girls at the party.</td>\n",
              "      <td>पार्टीत पन्नासपेक्षा जास्त मुली होत्या.</td>\n",
              "    </tr>\n",
              "    <tr>\n",
              "      <th>38692</th>\n",
              "      <td>These factories are polluting the environment.</td>\n",
              "      <td>हे कारखाने पर्यावरणाला प्रदूषित करताहेत.</td>\n",
              "    </tr>\n",
              "    <tr>\n",
              "      <th>38693</th>\n",
              "      <td>They want to participate in the Olympic Games.</td>\n",
              "      <td>त्यांना ऑलिंपिक खेळांमध्ये सहभागी व्हायचं आहे.</td>\n",
              "    </tr>\n",
              "    <tr>\n",
              "      <th>38694</th>\n",
              "      <td>They wanted to live in peace with the Indians.</td>\n",
              "      <td>त्यांना भारतीयांबरोबर शांतीने राहायचं होतं.</td>\n",
              "    </tr>\n",
              "  </tbody>\n",
              "</table>\n",
              "</div>"
            ],
            "text/plain": [
              "                                              English                                         Marathi\n",
              "38690  There were few students left in the classroom.            वर्गात काहीच विद्यार्थी राहिले होते.\n",
              "38691  There were more than fifty girls at the party.         पार्टीत पन्नासपेक्षा जास्त मुली होत्या.\n",
              "38692  These factories are polluting the environment.        हे कारखाने पर्यावरणाला प्रदूषित करताहेत.\n",
              "38693  They want to participate in the Olympic Games.  त्यांना ऑलिंपिक खेळांमध्ये सहभागी व्हायचं आहे.\n",
              "38694  They wanted to live in peace with the Indians.     त्यांना भारतीयांबरोबर शांतीने राहायचं होतं."
            ]
          },
          "metadata": {
            "tags": []
          },
          "execution_count": 9
        }
      ]
    },
    {
      "cell_type": "markdown",
      "metadata": {
        "id": "E7GaJG-pH0i7"
      },
      "source": [
        "#Text Cleaning"
      ]
    },
    {
      "cell_type": "markdown",
      "metadata": {
        "id": "lIPcGMs5H6VO"
      },
      "source": [
        "Text preprocessing which includes lowercase the text, removing punctuation, removing digits, and whitespace."
      ]
    },
    {
      "cell_type": "code",
      "metadata": {
        "id": "YRTLqffoh2A_"
      },
      "source": [
        "english_text = language_df['English'].values\n",
        "marathi_text = language_df['Marathi'].values"
      ],
      "execution_count": 10,
      "outputs": []
    },
    {
      "cell_type": "code",
      "metadata": {
        "id": "4rw_Q8bsh17g",
        "outputId": "233b69c0-e2d0-405e-ec8f-9a207ecc987c",
        "colab": {
          "base_uri": "https://localhost:8080/"
        }
      },
      "source": [
        "len(english_text), len(marathi_text)"
      ],
      "execution_count": 11,
      "outputs": [
        {
          "output_type": "execute_result",
          "data": {
            "text/plain": [
              "(38695, 38695)"
            ]
          },
          "metadata": {
            "tags": []
          },
          "execution_count": 11
        }
      ]
    },
    {
      "cell_type": "code",
      "metadata": {
        "id": "w743m_mkh15I"
      },
      "source": [
        "english_text_ = [x.lower() for x in english_text]\n",
        "marathi_text_ = [x.lower() for x in marathi_text]"
      ],
      "execution_count": 12,
      "outputs": []
    },
    {
      "cell_type": "code",
      "metadata": {
        "id": "B2cWCl3mh13V"
      },
      "source": [
        "english_text_ = [re.sub(\"'\",'',x) for x in english_text_]\n",
        "marathi_text_ = [re.sub(\"'\",'',x) for x in marathi_text_]"
      ],
      "execution_count": 13,
      "outputs": []
    },
    {
      "cell_type": "code",
      "metadata": {
        "id": "ZcIDwa-uh1x0"
      },
      "source": [
        "def remove_punc(text_list):\n",
        "  table = str.maketrans('', '', string.punctuation)\n",
        "  removed_punc_text = []\n",
        "  for sent in text_list:\n",
        "    sentance = [w.translate(table) for w in sent.split(' ')]\n",
        "    removed_punc_text.append(' '.join(sentance))\n",
        "  return removed_punc_text\n",
        "english_text_ = remove_punc(english_text_)\n",
        "marathi_text_ = remove_punc(marathi_text_)"
      ],
      "execution_count": 14,
      "outputs": []
    },
    {
      "cell_type": "code",
      "metadata": {
        "id": "hdAOXrSWh1uO"
      },
      "source": [
        "# removing the digits from english sentances\n",
        "remove_digits = str.maketrans('', '', digits)\n",
        "removed_digits_text = []\n",
        "for sent in english_text_:\n",
        "  sentance = [w.translate(remove_digits) for w in sent.split(' ')]\n",
        "  removed_digits_text.append(' '.join(sentance))\n",
        "english_text_ = removed_digits_text\n",
        "\n",
        "# removing the digits from the marathi sentances\n",
        "marathi_text_ = [re.sub(\"[२३०८१५७९४६]\",\"\",x) for x in marathi_text_]\n",
        "marathi_text_ = [re.sub(\"[\\u200d]\",\"\",x) for x in marathi_text_]\n",
        "\n",
        "# removing the stating and ending whitespaces\n",
        "english_text_ = [x.strip() for x in english_text_]\n",
        "marathi_text_ = [x.strip() for x in marathi_text_]"
      ],
      "execution_count": 15,
      "outputs": []
    },
    {
      "cell_type": "code",
      "metadata": {
        "id": "g2Ku6708h1sh"
      },
      "source": [
        "# removing the starting and ending whitespaces\n",
        "english_text_ = [x.strip() for x in english_text_]\n",
        "marathi_text_ = [x.strip() for x in marathi_text_]"
      ],
      "execution_count": 16,
      "outputs": []
    },
    {
      "cell_type": "markdown",
      "metadata": {
        "id": "pCx5HJwQO3p-"
      },
      "source": [
        "###Append Start and End to the sentences"
      ]
    },
    {
      "cell_type": "code",
      "metadata": {
        "id": "Y7zNsNEth1qJ"
      },
      "source": [
        "# Putting the start and end words in the marathi sentances\n",
        "marathi_text_ = [\"start \" + x + \" end\" for x in marathi_text_]"
      ],
      "execution_count": 17,
      "outputs": []
    },
    {
      "cell_type": "markdown",
      "metadata": {
        "id": "ahbVdd3ziZvo"
      },
      "source": [
        ""
      ]
    },
    {
      "cell_type": "code",
      "metadata": {
        "id": "AebARwf7h1oR",
        "outputId": "5840e6da-9fb6-43dd-dd43-45d055287564",
        "colab": {
          "base_uri": "https://localhost:8080/"
        }
      },
      "source": [
        "len(marathi_text_),len(english_text)"
      ],
      "execution_count": 18,
      "outputs": [
        {
          "output_type": "execute_result",
          "data": {
            "text/plain": [
              "(38695, 38695)"
            ]
          },
          "metadata": {
            "tags": []
          },
          "execution_count": 18
        }
      ]
    },
    {
      "cell_type": "code",
      "metadata": {
        "id": "UAKU2RMXijCB",
        "outputId": "74e5a38e-b2ee-4fec-c570-48209cbc8ee4",
        "colab": {
          "base_uri": "https://localhost:8080/"
        }
      },
      "source": [
        "marathi_text_[0], english_text_[0]"
      ],
      "execution_count": 19,
      "outputs": [
        {
          "output_type": "execute_result",
          "data": {
            "text/plain": [
              "('start जा end', 'go')"
            ]
          },
          "metadata": {
            "tags": []
          },
          "execution_count": 19
        }
      ]
    },
    {
      "cell_type": "markdown",
      "metadata": {
        "id": "RfvBJMHRISwM"
      },
      "source": [
        "#Train/Test Data Split"
      ]
    },
    {
      "cell_type": "code",
      "metadata": {
        "id": "luqbSSNYijFa"
      },
      "source": [
        "X = english_text_\n",
        "Y = marathi_text_"
      ],
      "execution_count": 20,
      "outputs": []
    },
    {
      "cell_type": "code",
      "metadata": {
        "id": "KDzKSXZwijTC",
        "outputId": "ea5fa978-38e5-4590-e8af-33120c1a6326",
        "colab": {
          "base_uri": "https://localhost:8080/"
        }
      },
      "source": [
        "X_train, X_test, y_train, y_test = train_test_split(X,Y,test_size = 0.1)\n",
        "len(X_train),len(y_train), len(X_test), len(y_test)"
      ],
      "execution_count": 21,
      "outputs": [
        {
          "output_type": "execute_result",
          "data": {
            "text/plain": [
              "(34825, 34825, 3870, 3870)"
            ]
          },
          "metadata": {
            "tags": []
          },
          "execution_count": 21
        }
      ]
    },
    {
      "cell_type": "code",
      "metadata": {
        "id": "xj9VHi5yijez",
        "outputId": "026eb8f6-f724-47fc-8934-154b1a5ea4ac",
        "colab": {
          "base_uri": "https://localhost:8080/"
        }
      },
      "source": [
        "X[0], Y[0]"
      ],
      "execution_count": 22,
      "outputs": [
        {
          "output_type": "execute_result",
          "data": {
            "text/plain": [
              "('go', 'start जा end')"
            ]
          },
          "metadata": {
            "tags": []
          },
          "execution_count": 22
        }
      ]
    },
    {
      "cell_type": "markdown",
      "metadata": {
        "id": "XeOUzd2MIll7"
      },
      "source": [
        "In seq2seq model,the input sequence to be of same length. So we calculate the length of each sentence in both English and Marathi and then we take the max length i.e the longest sentence in both English and Marathi. Thus we have two max_length one for English sentence and another is for Marathi sentence."
      ]
    },
    {
      "cell_type": "code",
      "metadata": {
        "id": "T1_PmDq8ijch"
      },
      "source": [
        "# preparing data for the word embedding\n",
        "def Max_length(data):\n",
        "  max_length_ = max([len(x.split(' ')) for x in data])\n",
        "  return max_length_\n",
        "\n",
        "#Training data\n",
        "max_length_english = Max_length(X_train)\n",
        "max_lenght_marathi = Max_length(y_train)\n",
        "\n",
        "#Test data\n",
        "max_length_english_test = Max_length(X_test)\n",
        "max_lenght_marathi_test = Max_length(y_test)"
      ],
      "execution_count": 23,
      "outputs": []
    },
    {
      "cell_type": "markdown",
      "metadata": {
        "id": "MGbfmHo6JHpp"
      },
      "source": [
        "Since machines understand numbers only and not the text we need to convert the input text sequence into number and one such way is to index the words of the sentences. We can do this indexing using the “Tokenizer” method of Keras we also need to take the vocabulary size of both English and Marathi corpus which is required when we create the input data for the model training."
      ]
    },
    {
      "cell_type": "code",
      "metadata": {
        "id": "uCqIPKjoijZP"
      },
      "source": [
        "def tokenizer_(text_data):\n",
        "  tokenizer = Tokenizer()\n",
        "  tokenizer.fit_on_texts(text_data)\n",
        "  return tokenizer\n",
        "\n",
        "tokenizer_input = tokenizer_(X_train)\n",
        "vocab_size_input = len(tokenizer_input.word_index) + 1\n",
        "tokenizer_target = tokenizer_(y_train)\n",
        "vocab_size_target = len(tokenizer_target.word_index) + 1\n",
        "\n"
      ],
      "execution_count": 24,
      "outputs": []
    },
    {
      "cell_type": "code",
      "metadata": {
        "id": "9myqeRBpijXC"
      },
      "source": [
        "with open('tokenizer_input.pkl','wb') as f:\n",
        "  pkl.dump(tokenizer_input,f)\n",
        "\n",
        "with open('tokenizer_target.pkl','wb') as f:\n",
        "  pkl.dump(tokenizer_target,f)\n",
        "pkl.dump(tokenizer_input, open('tokenizer_input.pkl', 'wb'))\n",
        "pkl.dump(tokenizer_target, open('tokenizer_target.pkl', 'wb'))"
      ],
      "execution_count": 25,
      "outputs": []
    },
    {
      "cell_type": "code",
      "metadata": {
        "id": "lWVFQLbpijRa",
        "outputId": "808f7812-b338-4871-afe0-9197da72c776",
        "colab": {
          "base_uri": "https://localhost:8080/"
        }
      },
      "source": [
        "vocab_size_input,vocab_size_target"
      ],
      "execution_count": 26,
      "outputs": [
        {
          "output_type": "execute_result",
          "data": {
            "text/plain": [
              "(5010, 11812)"
            ]
          },
          "metadata": {
            "tags": []
          },
          "execution_count": 26
        }
      ]
    },
    {
      "cell_type": "code",
      "metadata": {
        "id": "Rr0dVrytijPC"
      },
      "source": [
        "def generator_batch(X= X_train,Y=y_train, batch_size=128):\n",
        "  while True:\n",
        "    for j in range(0, len(X), batch_size):\n",
        "      encoder_data_input = np.zeros((batch_size,max_length_english),dtype='float32') #metrix of batch_size*max_length_english\n",
        "      decoder_data_input = np.zeros((batch_size,max_lenght_marathi),dtype='float32') #metrix of batch_size*max_length_marathi\n",
        "      decoder_target_input = np.zeros((batch_size,max_lenght_marathi,vocab_size_target),dtype='float32') # 3d array one hot encoder decoder target data\n",
        "      for i, (input_text,target_text) in enumerate(zip(X[j:j+batch_size],Y[j:j+batch_size])):\n",
        "        for t, word in enumerate(input_text.split()):\n",
        "          encoder_data_input[i,t] = tokenizer_input.word_index[word] # Here we are storing the encoder \n",
        "                                                                     #seq in row here padding is done automaticaly as \n",
        "                                                                     #we have defined col as max_lenght\n",
        "        for t, word in enumerate(target_text.split()):\n",
        "          # if word == 'START_':\n",
        "          #   word = 'start'\n",
        "          # elif word == 'END_':\n",
        "          #   word = 'end'\n",
        "          decoder_data_input[i,t] = tokenizer_target.word_index[word] # same for the decoder sequence\n",
        "          if t>0:\n",
        "            decoder_target_input[i,t-1,tokenizer_target.word_index[word]] = 1 #target is one timestep ahead of decoder input because it does not have 'start tag'\n",
        "      # print(encoder_data_input.shape())\n",
        "      yield ([encoder_data_input,decoder_data_input],decoder_target_input)"
      ],
      "execution_count": 27,
      "outputs": []
    },
    {
      "cell_type": "markdown",
      "metadata": {
        "id": "Nqxh4ZmeO0fw"
      },
      "source": [
        "The reason for appending “start” and “end” to the decoder input is, “start” tag is used to initiate the decoder to start decoding, and the “end” tag is used to signal decoder to stop decoding process. If we do not use this then the decoder will never be able to produce the first word as we know that if we pass the word to the decoder as input it will predict the next word of the sequence and this prediction will never stop as it is not able to know when to stop."
      ]
    },
    {
      "cell_type": "code",
      "metadata": {
        "id": "ddmoqc1RijLl"
      },
      "source": [
        "latent_dim = 50\n",
        "# Define an input sequence and process it.\n",
        "encoder_inputs = Input(shape=(None,),name=\"encoder_inputs\")\n",
        "emb_layer_encoder = Embedding(vocab_size_input,latent_dim, mask_zero=True)(encoder_inputs)\n",
        "encoder = LSTM(latent_dim, return_state=True)\n",
        "encoder_outputs, state_h, state_c = encoder(emb_layer_encoder)\n",
        "# We discard `encoder_outputs` and only keep the states.\n",
        "encoder_states = [state_h, state_c]\n",
        "\n",
        "# Set up the decoder, using `encoder_states` as initial state.\n",
        "decoder_inputs = Input(shape=(None,),name=\"decoder_inputs\")\n",
        "# We set up our decoder to return full output sequences,\n",
        "# and to return internal states as well. We don't use the\n",
        "# return states in the training model, but we will use them in inference.\n",
        "emb_layer_decoder = Embedding(vocab_size_target,latent_dim, mask_zero=True)(decoder_inputs)\n",
        "decoder_lstm = LSTM(latent_dim, return_sequences=True, return_state=True)\n",
        "decoder_outputs, _, _ = decoder_lstm(emb_layer_decoder, initial_state=encoder_states)\n",
        "decoder_dense = Dense(vocab_size_target, activation='softmax')\n",
        "decoder_outputs = decoder_dense(decoder_outputs)\n",
        "\n",
        "# Define the model that will turn\n",
        "# `encoder_input_data` & `decoder_input_data` into `decoder_target_data`\n",
        "model = Model([encoder_inputs, decoder_inputs], decoder_outputs)"
      ],
      "execution_count": 28,
      "outputs": []
    },
    {
      "cell_type": "code",
      "metadata": {
        "id": "p5GeUrnYijJn"
      },
      "source": [
        "model.compile(loss='categorical_crossentropy', optimizer='rmsprop', metrics=['accuracy'])"
      ],
      "execution_count": 29,
      "outputs": []
    },
    {
      "cell_type": "code",
      "metadata": {
        "id": "OtfnasykjN1l",
        "outputId": "0ddf2cd4-32a9-474d-81a7-4779bc644e70",
        "colab": {
          "base_uri": "https://localhost:8080/",
          "height": 531
        }
      },
      "source": [
        "plot_model(model, to_file='train_model.png', show_shapes=True)\n",
        "\n"
      ],
      "execution_count": 30,
      "outputs": [
        {
          "output_type": "execute_result",
          "data": {
            "image/png": "[encoded data removed]",
            "text/plain": [
              "<IPython.core.display.Image object>"
            ]
          },
          "metadata": {
            "tags": []
          },
          "execution_count": 30
        }
      ]
    },
    {
      "cell_type": "markdown",
      "metadata": {
        "id": "2rKUV5FQPcU2"
      },
      "source": [
        "Above is the training model."
      ]
    },
    {
      "cell_type": "code",
      "metadata": {
        "id": "Y7UzvxyQjN7T"
      },
      "source": [
        "train_samples = len(X_train)\n",
        "val_samples = len(X_test)\n",
        "batch_size = 128\n",
        "epochs = 50"
      ],
      "execution_count": 31,
      "outputs": []
    },
    {
      "cell_type": "code",
      "metadata": {
        "id": "tGPTyXX4jOBg",
        "outputId": "2a2026f7-5bc4-4aed-f4fc-465dc637a5d9",
        "colab": {
          "base_uri": "https://localhost:8080/"
        }
      },
      "source": [
        "\n",
        "model.fit_generator(generator = generator_batch(X_train, y_train, batch_size = batch_size),\n",
        "                    steps_per_epoch = train_samples//batch_size,\n",
        "                    epochs=epochs)"
      ],
      "execution_count": 32,
      "outputs": [
        {
          "output_type": "stream",
          "text": [
            "WARNING:tensorflow:From <ipython-input-32-aa0b58122f89>:4: Model.fit_generator (from tensorflow.python.keras.engine.training) is deprecated and will be removed in a future version.\n",
            "Instructions for updating:\n",
            "Please use Model.fit, which supports generators.\n",
            "Epoch 1/50\n",
            "272/272 [==============================] - 256s 942ms/step - loss: 2.4825 - accuracy: 0.1563\n",
            "Epoch 2/50\n",
            "272/272 [==============================] - 253s 930ms/step - loss: 2.1375 - accuracy: 0.1822\n",
            "Epoch 3/50\n",
            "272/272 [==============================] - 252s 927ms/step - loss: 2.0279 - accuracy: 0.2024\n",
            "Epoch 4/50\n",
            "272/272 [==============================] - 253s 931ms/step - loss: 1.9435 - accuracy: 0.2265\n",
            "Epoch 5/50\n",
            "272/272 [==============================] - 254s 935ms/step - loss: 1.8658 - accuracy: 0.2443\n",
            "Epoch 6/50\n",
            "272/272 [==============================] - 255s 936ms/step - loss: 1.8008 - accuracy: 0.2598\n",
            "Epoch 7/50\n",
            "272/272 [==============================] - 255s 939ms/step - loss: 1.7431 - accuracy: 0.2744\n",
            "Epoch 8/50\n",
            "272/272 [==============================] - 255s 936ms/step - loss: 1.6895 - accuracy: 0.2898\n",
            "Epoch 9/50\n",
            "272/272 [==============================] - 255s 939ms/step - loss: 1.6406 - accuracy: 0.3034\n",
            "Epoch 10/50\n",
            "272/272 [==============================] - 255s 939ms/step - loss: 1.5950 - accuracy: 0.3153\n",
            "Epoch 11/50\n",
            "272/272 [==============================] - 254s 936ms/step - loss: 1.5517 - accuracy: 0.3266\n",
            "Epoch 12/50\n",
            "272/272 [==============================] - 254s 934ms/step - loss: 1.5109 - accuracy: 0.3376\n",
            "Epoch 13/50\n",
            "272/272 [==============================] - 254s 932ms/step - loss: 1.4727 - accuracy: 0.3478\n",
            "Epoch 14/50\n",
            "272/272 [==============================] - 254s 933ms/step - loss: 1.4350 - accuracy: 0.3579\n",
            "Epoch 15/50\n",
            "272/272 [==============================] - 253s 931ms/step - loss: 1.3996 - accuracy: 0.3679\n",
            "Epoch 16/50\n",
            "272/272 [==============================] - 254s 932ms/step - loss: 1.3645 - accuracy: 0.3779\n",
            "Epoch 17/50\n",
            "272/272 [==============================] - 254s 933ms/step - loss: 1.3318 - accuracy: 0.3875\n",
            "Epoch 18/50\n",
            "272/272 [==============================] - 253s 931ms/step - loss: 1.2993 - accuracy: 0.3966\n",
            "Epoch 19/50\n",
            "272/272 [==============================] - 253s 929ms/step - loss: 1.2681 - accuracy: 0.4056\n",
            "Epoch 20/50\n",
            "272/272 [==============================] - 253s 931ms/step - loss: 1.2383 - accuracy: 0.4146\n",
            "Epoch 21/50\n",
            "272/272 [==============================] - 253s 930ms/step - loss: 1.2102 - accuracy: 0.4232\n",
            "Epoch 22/50\n",
            "272/272 [==============================] - 252s 927ms/step - loss: 1.1836 - accuracy: 0.4313\n",
            "Epoch 23/50\n",
            "272/272 [==============================] - 252s 926ms/step - loss: 1.1593 - accuracy: 0.4389\n",
            "Epoch 24/50\n",
            "272/272 [==============================] - 253s 929ms/step - loss: 1.1362 - accuracy: 0.4464\n",
            "Epoch 25/50\n",
            "272/272 [==============================] - 252s 928ms/step - loss: 1.1141 - accuracy: 0.4536\n",
            "Epoch 26/50\n",
            "272/272 [==============================] - 251s 924ms/step - loss: 1.0942 - accuracy: 0.4612\n",
            "Epoch 27/50\n",
            "272/272 [==============================] - 253s 929ms/step - loss: 1.0763 - accuracy: 0.4683\n",
            "Epoch 28/50\n",
            "272/272 [==============================] - 252s 927ms/step - loss: 1.0598 - accuracy: 0.4748\n",
            "Epoch 29/50\n",
            "272/272 [==============================] - 251s 924ms/step - loss: 1.0446 - accuracy: 0.4812\n",
            "Epoch 30/50\n",
            "272/272 [==============================] - 251s 925ms/step - loss: 1.0304 - accuracy: 0.4867\n",
            "Epoch 31/50\n",
            "272/272 [==============================] - 252s 926ms/step - loss: 1.0176 - accuracy: 0.4921\n",
            "Epoch 32/50\n",
            "272/272 [==============================] - 252s 925ms/step - loss: 1.0051 - accuracy: 0.4977\n",
            "Epoch 33/50\n",
            "272/272 [==============================] - 252s 925ms/step - loss: 0.9936 - accuracy: 0.5028\n",
            "Epoch 34/50\n",
            "272/272 [==============================] - 252s 925ms/step - loss: 0.9831 - accuracy: 0.5073\n",
            "Epoch 35/50\n",
            "272/272 [==============================] - 252s 928ms/step - loss: 0.9709 - accuracy: 0.5118\n",
            "Epoch 36/50\n",
            "272/272 [==============================] - 252s 927ms/step - loss: 0.9585 - accuracy: 0.5163\n",
            "Epoch 37/50\n",
            "272/272 [==============================] - 252s 927ms/step - loss: 0.9456 - accuracy: 0.5203\n",
            "Epoch 38/50\n",
            "272/272 [==============================] - 252s 927ms/step - loss: 0.9334 - accuracy: 0.5241\n",
            "Epoch 39/50\n",
            "272/272 [==============================] - 252s 927ms/step - loss: 0.9230 - accuracy: 0.5277\n",
            "Epoch 40/50\n",
            "272/272 [==============================] - 252s 927ms/step - loss: 0.9123 - accuracy: 0.5317\n",
            "Epoch 41/50\n",
            "272/272 [==============================] - 252s 928ms/step - loss: 0.9023 - accuracy: 0.5352\n",
            "Epoch 42/50\n",
            "272/272 [==============================] - 254s 932ms/step - loss: 0.8932 - accuracy: 0.5382\n",
            "Epoch 43/50\n",
            "272/272 [==============================] - 253s 930ms/step - loss: 0.8846 - accuracy: 0.5414\n",
            "Epoch 44/50\n",
            "272/272 [==============================] - 253s 929ms/step - loss: 0.8772 - accuracy: 0.5449\n",
            "Epoch 45/50\n",
            "272/272 [==============================] - 252s 927ms/step - loss: 0.8696 - accuracy: 0.5478\n",
            "Epoch 46/50\n",
            "272/272 [==============================] - 253s 929ms/step - loss: 0.8637 - accuracy: 0.5503\n",
            "Epoch 47/50\n",
            "272/272 [==============================] - 252s 927ms/step - loss: 0.8583 - accuracy: 0.5528\n",
            "Epoch 48/50\n",
            "272/272 [==============================] - 252s 926ms/step - loss: 0.8525 - accuracy: 0.5554\n",
            "Epoch 49/50\n",
            "272/272 [==============================] - 252s 927ms/step - loss: 0.8479 - accuracy: 0.5578\n",
            "Epoch 50/50\n",
            "272/272 [==============================] - 252s 925ms/step - loss: 0.8430 - accuracy: 0.5600\n"
          ],
          "name": "stdout"
        },
        {
          "output_type": "execute_result",
          "data": {
            "text/plain": [
              "<tensorflow.python.keras.callbacks.History at 0x7fd188f18b70>"
            ]
          },
          "metadata": {
            "tags": []
          },
          "execution_count": 32
        }
      ]
    },
    {
      "cell_type": "code",
      "metadata": {
        "id": "NblGEDPNjN_u",
        "outputId": "edf824e5-b362-481e-8703-e81a2c1fbc12",
        "colab": {
          "base_uri": "https://localhost:8080/"
        }
      },
      "source": [
        "model_json = model.to_json()\n",
        "with open(\"model_2.json\", \"w\") as json_file:\n",
        "    json_file.write(model_json)\n",
        "# serialize weights to HDF5\n",
        "model.save_weights(\"model_weight_5.h5\")\n",
        "print(\"Saved model to disk\")"
      ],
      "execution_count": 33,
      "outputs": [
        {
          "output_type": "stream",
          "text": [
            "Saved model to disk\n"
          ],
          "name": "stdout"
        }
      ]
    },
    {
      "cell_type": "code",
      "metadata": {
        "id": "tdz-kyCJjN5N"
      },
      "source": [
        "# loading the model architecture and asigning the weights\n",
        "json_file = open('model_2.json', 'r')\n",
        "loaded_model_json = json_file.read()\n",
        "json_file.close()\n",
        "model_loaded = model_from_json(loaded_model_json)\n",
        "# load weights into new model\n",
        "model_loaded.load_weights(\"model_weight_5.h5\")"
      ],
      "execution_count": 34,
      "outputs": []
    },
    {
      "cell_type": "markdown",
      "metadata": {
        "id": "PFzt96b2P8Xq"
      },
      "source": [
        "Will Save the model because we create the inference encoder and decoder to make a prediction later and that model makes use of trained model layers also."
      ]
    },
    {
      "cell_type": "markdown",
      "metadata": {
        "id": "b55v6-sgQUbU"
      },
      "source": [
        "#Inference Setup"
      ]
    },
    {
      "cell_type": "code",
      "metadata": {
        "id": "u_cZjY-9jekl"
      },
      "source": [
        "latent_dim = 50\n",
        "#inference encoder\n",
        "encoder_inputs_inf = model_loaded.input[0] #Trained encoder input layer\n",
        "encoder_outputs_inf, inf_state_h, inf_state_c = model_loaded.layers[4].output # retoring the encoder lstm output and states\n",
        "encoder_inf_states = [inf_state_h,inf_state_c]\n",
        "encoder_model = Model(encoder_inputs_inf,encoder_inf_states)"
      ],
      "execution_count": 35,
      "outputs": []
    },
    {
      "cell_type": "code",
      "metadata": {
        "id": "pUAufPBYjeyZ"
      },
      "source": [
        "#inference decoder\n",
        "# The following tensor will store the state of the previous timestep in the \"starting the encoder final time step\"\n",
        "decoder_state_h_input = Input(shape=(latent_dim,)) #becase during training we have set the lstm unit to be of 50\n",
        "decoder_state_c_input = Input(shape=(latent_dim,))\n",
        "decoder_state_input = [decoder_state_h_input,decoder_state_c_input]\n",
        "\n",
        "# # inference decoder input\n",
        "decoder_input_inf = model_loaded.input[1] #Trained decoder input layer\n",
        "# decoder_input_inf._name='decoder_input'\n",
        "decoder_emb_inf = model_loaded.layers[3](decoder_input_inf)\n",
        "decoder_lstm_inf = model_loaded.layers[5]\n",
        "decoder_output_inf, decoder_state_h_inf, decoder_state_c_inf = decoder_lstm_inf(decoder_emb_inf, initial_state =decoder_state_input)\n",
        "decoder_state_inf = [decoder_state_h_inf,decoder_state_c_inf]\n",
        "#inference dense layer\n",
        "dense_inf = model_loaded.layers[6]\n",
        "decoder_output_final = dense_inf(decoder_output_inf)# A dense softmax layer to generate prob dist. over the target vocabulary\n",
        "\n",
        "decoder_model = Model([decoder_input_inf]+decoder_state_input,[decoder_output_final]+decoder_state_inf)\n"
      ],
      "execution_count": 36,
      "outputs": []
    },
    {
      "cell_type": "markdown",
      "metadata": {
        "id": "PDg--d7dQo6L"
      },
      "source": [
        "The encoder inference model is similar to the training model the difference is in the decoder inference model. In encoder-decoder the states of the previous timestamp are pass to the next timestamp hence we need to find a way to preserve the states of the previous timestamp.\n",
        "\n",
        "Then we create the decoder inference model. To create the decoder model we should define the input layer first. After that, we create the same layers as we have in the training decoder model but the only difference is the initial state of the decoder LSTM is set to be the states of the previous timestamp. Rest of the inference model is similar to the training decoder model.\n"
      ]
    },
    {
      "cell_type": "code",
      "metadata": {
        "id": "N1WNM9zDjeve"
      },
      "source": [
        "with open('tokenizer_input.pkl','rb') as f:\n",
        "  tokenizer_input = pkl.load(f)\n",
        "with open('tokenizer_target.pkl','rb') as f:\n",
        "  tokenizer_target = pkl.load(f)\n",
        "# Creating the reverse mapping to get the word from the index in the sequence\n",
        "reverse_word_map_input = dict(map(reversed, tokenizer_input.word_index.items()))\n",
        "reverse_word_map_target = dict(map(reversed, tokenizer_target.word_index.items()))\n"
      ],
      "execution_count": 37,
      "outputs": []
    },
    {
      "cell_type": "markdown",
      "metadata": {
        "id": "DKh4S4nkSS8p"
      },
      "source": [
        "#Prediction"
      ]
    },
    {
      "cell_type": "markdown",
      "metadata": {
        "id": "vOMOONo7SU6X"
      },
      "source": [
        "Now we have trained the seq2seq model and created the inference model using the trained model for making prediction so its time to make a prediction"
      ]
    },
    {
      "cell_type": "code",
      "metadata": {
        "id": "8RrzFh1Jjes-"
      },
      "source": [
        "\n",
        "# Code to predct the input sentences translation\n",
        "def decode_seq(input_seq):\n",
        "  # print(\"input_seq=>\",input_seq)\n",
        "  state_values_encoder = encoder_model.predict(input_seq)\n",
        "  # intialize the target seq with start tag\n",
        "  target_seq = np.zeros((1,1))\n",
        "  target_seq[0, 0] = tokenizer_target.word_index['start']\n",
        "  # print(\"target_seq:=>\",target_seq)\n",
        "  stop_condition = False\n",
        "  decoder_sentance = ''\n",
        "  # print(\"Beforee the while loop\")\n",
        "  while not stop_condition:\n",
        "    sample_word , decoder_h,decoder_c= decoder_model.predict([target_seq] + state_values_encoder)\n",
        "    # print(\"sample_word: =>\",sample_word)\n",
        "    sample_word_index = np.argmax(sample_word[0,-1,:])\n",
        "    # print(\"sample_word_index: \",sample_word_index)\n",
        "    decoder_word = reverse_word_map_target[sample_word_index]\n",
        "    decoder_sentance += ' '+ decoder_word\n",
        "    # print(\"decoded word:=>\",decoder_word)\n",
        "    # print(len(decoder_sentance))\n",
        "    # print(\"len(decoder_sentance) > 70: \",len(decoder_sentance) > 70)\n",
        "    # print('decoder_word == \"end\"',decoder_word == 'end')\n",
        "    # print(decoder_word == 'end' or len(decoder_sentance) > 70)\n",
        "    # stop condition for the while loop\n",
        "    if (decoder_word == 'end' or \n",
        "        len(decoder_sentance) > 70):\n",
        "        stop_condition = True\n",
        "        # print(\"from if condition\")\n",
        "    # target_seq = np.zeros((1,1))\n",
        "    target_seq[0, 0] = sample_word_index\n",
        "    # print(target_seq)\n",
        "    state_values_encoder = [decoder_h,decoder_c]\n",
        "  return decoder_sentance\n"
      ],
      "execution_count": 38,
      "outputs": []
    },
    {
      "cell_type": "markdown",
      "metadata": {
        "id": "JQiIwzkUTE5m"
      },
      "source": [
        "The above function returns us the translated sentence, it first encodes the input sentence and gets the state value of the last timestamp of the encoder. Then we have created the metric of single value called “target_seq” which holds the index of the next predicted Marathi word but to start the decoding process we need to pass the first word i.e “start” in this case hence, in the beginning, we are going to store the index of the word “start” into the “target_seq” then since we have to carry out the decoding process till we reach the “end” word. Thus we need to call the decoder inference model in a loop. In the loop, we pass the “target_seq” and the encoder last timestamp “states” as the input to the decoder inference model. The inference decoder_model returns the next word index and the decoder states, after this, we convert that index back to the word and add it to the string variable “decoder_sentance”, then we put the newly generated word index into the “target_seq” and update the “state_value” with the decoder model states this process continues till we get the predicted word as “end”. Hence at the end of the while loop, we get the complete translated sentence. "
      ]
    },
    {
      "cell_type": "code",
      "metadata": {
        "id": "L6HfF7gbjeqc",
        "outputId": "1e7ced36-00ee-4761-a0e5-3ffc3b87069b",
        "colab": {
          "base_uri": "https://localhost:8080/"
        }
      },
      "source": [
        "for i in range(100):\n",
        "  sentance = X_test[i]\n",
        "  original_target = y_test[i]\n",
        "  input_seq = tokenizer_input.texts_to_sequences([sentance])\n",
        "  pad_sequence = pad_sequences(input_seq, maxlen= 30, padding='post')\n",
        "  # print('input_sequence =>',input_seq)\n",
        "  # print(\"pad_seq=>\",pad_sequence)\n",
        "  predicted_target = decode_seq(pad_sequence)\n",
        "  print(\"Test sentance: \",i+1)\n",
        "  print(\"sentance: \",sentance)\n",
        "  print(\"origianl translate:\",original_target[6:-4])\n",
        "  print(\"predicted Translate:\",predicted_target[:-4])\n",
        "  print(\"==\"*50)"
      ],
      "execution_count": 39,
      "outputs": [
        {
          "output_type": "stream",
          "text": [
            "Test sentance:  1\n",
            "sentance:  youve got nothing\n",
            "origianl translate: तुझ्याकडे काहीच नाहीये\n",
            "predicted Translate:  तुम्हाला काहीच नाहीये\n",
            "====================================================================================================\n",
            "Test sentance:  2\n",
            "sentance:  keep an eye on him\n",
            "origianl translate: त्याच्यावर लक्ष ठेव\n",
            "predicted Translate:  त्यांना ठेवा\n",
            "====================================================================================================\n",
            "Test sentance:  3\n",
            "sentance:  we were talking\n",
            "origianl translate: आपण बोलत होतो\n",
            "predicted Translate:  आम्ही बोलत होतो\n",
            "====================================================================================================\n",
            "Test sentance:  4\n",
            "sentance:  she has a picture\n",
            "origianl translate: त्यांच्याकडे एक चित्र आहे\n",
            "predicted Translate:  तिच्याकडे एक चित्र आहे\n",
            "====================================================================================================\n",
            "Test sentance:  5\n",
            "sentance:  i know that all of this is just a game\n",
            "origianl translate: हा सर्व फक्त एक खेळ आहे हे मला ठाऊक आहे\n",
            "predicted Translate:  मला ही खूप मोठी असेल तर मी अगदी बर्यापैकी\n",
            "====================================================================================================\n",
            "Test sentance:  6\n",
            "sentance:  its yours\n",
            "origianl translate: आपलंच आहे\n",
            "predicted Translate:  तुझं आहे\n",
            "====================================================================================================\n",
            "Test sentance:  7\n",
            "sentance:  we just cant find it\n",
            "origianl translate: आम्हाला सापडतच नाहीये\n",
            "predicted Translate:  आपल्याला फक्त काहीही माहीत नाही\n",
            "====================================================================================================\n",
            "Test sentance:  8\n",
            "sentance:  ive made some coffee for us\n",
            "origianl translate: मी आपल्यासाठी जराशी कॉफी बनवली आहे\n",
            "predicted Translate:  मी अजून काही सफरचंद नाहीये\n",
            "====================================================================================================\n",
            "Test sentance:  9\n",
            "sentance:  we named our dog cookie\n",
            "origianl translate: आम्ही आमच्या कुत्रीचं नाव कुकी ठेवलं\n",
            "predicted Translate:  आम्ही आपल्या आपल्या कुकी लिहिलं\n",
            "====================================================================================================\n",
            "Test sentance:  10\n",
            "sentance:  you wont drown if you learn how to swim\n",
            "origianl translate: पोहायला शिकलास तर बुडणार नाहीस\n",
            "predicted Translate:  तू पोहायला आली हे तर मला पोहता येतं\n",
            "====================================================================================================\n",
            "Test sentance:  11\n",
            "sentance:  mary often wears long skirts\n",
            "origianl translate: मेरी बहुधा लांब स्कर्ट घालते\n",
            "predicted Translate:  मेरी आमची कधीही तास मोठी असतात\n",
            "====================================================================================================\n",
            "Test sentance:  12\n",
            "sentance:  did he know who you were\n",
            "origianl translate: तू कोण होतास हे त्यांना माहीत होतं का\n",
            "predicted Translate:  तू कोण होतीस हे त्याला माहीत होतं का\n",
            "====================================================================================================\n",
            "Test sentance:  13\n",
            "sentance:  stop\n",
            "origianl translate: थांबा\n",
            "predicted Translate:  बंद कर\n",
            "====================================================================================================\n",
            "Test sentance:  14\n",
            "sentance:  no one uses that word anymore\n",
            "origianl translate: तो शब्द आजकाल कोणीही वापरत नाही\n",
            "predicted Translate:  आता त्या कधीही कॉफी देऊ नका\n",
            "====================================================================================================\n",
            "Test sentance:  15\n",
            "sentance:  he helped me fix my watch\n",
            "origianl translate: त्याने मला माझं घड्याळ दुरुस्त करण्यात माझी मदत केली\n",
            "predicted Translate:  माझ्याकडे ते माझी घड्याळ दिली\n",
            "====================================================================================================\n",
            "Test sentance:  16\n",
            "sentance:  i dont like the taste of onions\n",
            "origianl translate: मी कांद्यांची चव आवडत नाही\n",
            "predicted Translate:  मला करायला आवडत नाहीत\n",
            "====================================================================================================\n",
            "Test sentance:  17\n",
            "sentance:  toms not telling me something\n",
            "origianl translate: टॉम माझ्यापासून काहीतरी लपवतोय\n",
            "predicted Translate:  टॉम काहीतरी खरं नाहीये\n",
            "====================================================================================================\n",
            "Test sentance:  18\n",
            "sentance:  i want some more ice cream\n",
            "origianl translate: मला अजून थोडं आईस्क्रिम हवं आहे\n",
            "predicted Translate:  मला अजून थोडं खूप आवडतं\n",
            "====================================================================================================\n",
            "Test sentance:  19\n",
            "sentance:  we left by train\n",
            "origianl translate: आम्ही ट्रेनने निघालो\n",
            "predicted Translate:  आपण ट्रेन लहान वाजता\n",
            "====================================================================================================\n",
            "Test sentance:  20\n",
            "sentance:  we swam for a few hours\n",
            "origianl translate: आपण काही तास पोहलो\n",
            "predicted Translate:  आम्ही काही तास वाट बघितलं\n",
            "====================================================================================================\n",
            "Test sentance:  21\n",
            "sentance:  i thank god for what tom did\n",
            "origianl translate: टॉमने जे केलं त्यासाठी मी परमेश्वराचे आभार मानतो\n",
            "predicted Translate:  टॉमने जे केलं ते केलं मी करतोय\n",
            "====================================================================================================\n",
            "Test sentance:  22\n",
            "sentance:  i knew youd laugh\n",
            "origianl translate: मला माहीत होतं की तुम्ही हसाल\n",
            "predicted Translate:  तू मला माहीत होतं\n",
            "====================================================================================================\n",
            "Test sentance:  23\n",
            "sentance:  tom said that he wanted something to eat\n",
            "origianl translate: टॉम म्हणाला की त्याला काहीतरी खायला हवं होतं\n",
            "predicted Translate:  टॉम म्हणाला की त्याला काहीतरी ऐकू आलं\n",
            "====================================================================================================\n",
            "Test sentance:  24\n",
            "sentance:  my father caught three fish yesterday\n",
            "origianl translate: माझ्या बाबांनी काल तीन मासे पकडले\n",
            "predicted Translate:  माझे दुपारी पाच वर्ष झाली आहेत\n",
            "====================================================================================================\n",
            "Test sentance:  25\n",
            "sentance:  what do you call this flower\n",
            "origianl translate: ह्या फुलाला काय म्हणतात\n",
            "predicted Translate:  तू हे मला करायला हे कशाला हवा आहे\n",
            "====================================================================================================\n",
            "Test sentance:  26\n",
            "sentance:  whos that\n",
            "origianl translate: ती कोण आहे\n",
            "predicted Translate:  ते कोण आहे\n",
            "====================================================================================================\n",
            "Test sentance:  27\n",
            "sentance:  i gave him a few books\n",
            "origianl translate: मी त्याला थोडी पुस्तकं दिली\n",
            "predicted Translate:  मी काही काही पुस्तकं\n",
            "====================================================================================================\n",
            "Test sentance:  28\n",
            "sentance:  my eyes hurt\n",
            "origianl translate: माझे डोळे दुखत आहेत\n",
            "predicted Translate:  माझे डोळे विकतात\n",
            "====================================================================================================\n",
            "Test sentance:  29\n",
            "sentance:  will you go to australia with tom\n",
            "origianl translate: तू टॉमसोबत ऑस्ट्रेलियाला जाशील का\n",
            "predicted Translate:  तू ऑस्ट्रेलियाला ऑस्ट्रेलियाला का\n",
            "====================================================================================================\n",
            "Test sentance:  30\n",
            "sentance:  i dont want to go on a picnic with tom\n",
            "origianl translate: मला टॉमबरोबर पिकनिकला जायचं नाहीये\n",
            "predicted Translate:  मला टॉमबरोबर वाजता तसं करायला जायला आवडेल\n",
            "====================================================================================================\n",
            "Test sentance:  31\n",
            "sentance:  tom drank\n",
            "origianl translate: टॉम प्यायला\n",
            "predicted Translate:  टॉम मेला\n",
            "====================================================================================================\n",
            "Test sentance:  32\n",
            "sentance:  weve got nothing to prove\n",
            "origianl translate: आम्हाला काहीही सिद्ध करायचं नाहीये\n",
            "predicted Translate:  आम्हाला काहीही काहीही माहीत आहेत\n",
            "====================================================================================================\n",
            "Test sentance:  33\n",
            "sentance:  you have a dog dont you\n",
            "origianl translate: तुमच्याकडे कुत्रा आहे ना\n",
            "predicted Translate:  तू एक कुत्रा घरी आहे का\n",
            "====================================================================================================\n",
            "Test sentance:  34\n",
            "sentance:  she cried\n",
            "origianl translate: ती रडली\n",
            "predicted Translate:  ती रडत आहे\n",
            "====================================================================================================\n",
            "Test sentance:  35\n",
            "sentance:  i dont have any books in my room\n",
            "origianl translate: माझ्या खोलीत पुस्तकं नाहीयेत\n",
            "predicted Translate:  माझ्या माझ्या खोलीत फ्रेंच आहेत\n",
            "====================================================================================================\n",
            "Test sentance:  36\n",
            "sentance:  where is the nearest pub\n",
            "origianl translate: सगळ्यात जवळचं पब कुठे आहे\n",
            "predicted Translate:  सर्वात कुठे आहे\n",
            "====================================================================================================\n",
            "Test sentance:  37\n",
            "sentance:  tom asked mary\n",
            "origianl translate: टॉमने मेरीला विचारलं\n",
            "predicted Translate:  टॉमने मेरीला विचारलं\n",
            "====================================================================================================\n",
            "Test sentance:  38\n",
            "sentance:  the enemy kept up the attack all night\n",
            "origianl translate: शत्रूने हल्ला रात्रभर चालू ठेवला\n",
            "predicted Translate:  सर्व सर्व सहा पर्याय आहेत\n",
            "====================================================================================================\n",
            "Test sentance:  39\n",
            "sentance:  today is election day in poland\n",
            "origianl translate: आज पोलंडमध्ये निवडणुकीचा दिवस आहे\n",
            "predicted Translate:  आज एक देश आहे\n",
            "====================================================================================================\n",
            "Test sentance:  40\n",
            "sentance:  i went to the hotel by cab\n",
            "origianl translate: मी टॅक्सीने हॉटेलला गेलो\n",
            "predicted Translate:  मी भेटायला गेले\n",
            "====================================================================================================\n",
            "Test sentance:  41\n",
            "sentance:  i want to go to america\n",
            "origianl translate: मी अमेरिकेला जाऊ इच्छिते\n",
            "predicted Translate:  मला अमेरिकेला जायचं आहे\n",
            "====================================================================================================\n",
            "Test sentance:  42\n",
            "sentance:  she saw my name written on the wall\n",
            "origianl translate: तिने माझं नाव भिंतीवर लिहिलं पाहिलं\n",
            "predicted Translate:  तिने माझं नाव पत्र वाटलं\n",
            "====================================================================================================\n",
            "Test sentance:  43\n",
            "sentance:  which program did you watch yesterday\n",
            "origianl translate: काल कोणता प्रोग्राम बघितलास\n",
            "predicted Translate:  काल कोणता घड्याळ पाठवलं\n",
            "====================================================================================================\n",
            "Test sentance:  44\n",
            "sentance:  this sentence hasnt yet been translated\n",
            "origianl translate: या वाक्याचा अजूनपर्यंत अनुवाद केला गेला नाहीये\n",
            "predicted Translate:  नाही हे ज्या गावात आलं\n",
            "====================================================================================================\n",
            "Test sentance:  45\n",
            "sentance:  i want to go to the city\n",
            "origianl translate: मला शहरात जायचं आहे\n",
            "predicted Translate:  मला शहरात जायचं आहे\n",
            "====================================================================================================\n",
            "Test sentance:  46\n",
            "sentance:  wheres your boyfriend\n",
            "origianl translate: तुझा बॉयफ्रेंड कुठे आहे\n",
            "predicted Translate:  तुझा बॉयफ्रेंड कुठे आहे\n",
            "====================================================================================================\n",
            "Test sentance:  47\n",
            "sentance:  we swam in the lake\n",
            "origianl translate: आम्ही सरोवरात पोहलो\n",
            "predicted Translate:  आम्ही हे आम्ही इंजिन येतो\n",
            "====================================================================================================\n",
            "Test sentance:  48\n",
            "sentance:  boats can sink\n",
            "origianl translate: बोटी बुडू शकतात\n",
            "predicted Translate:  करू नकोस\n",
            "====================================================================================================\n",
            "Test sentance:  49\n",
            "sentance:  this book is about education\n",
            "origianl translate: हे पुस्तक शिक्षणाविषयी आहे\n",
            "predicted Translate:  पुस्तक पुस्तक कोणी आहे\n",
            "====================================================================================================\n",
            "Test sentance:  50\n",
            "sentance:  dont let tom in\n",
            "origianl translate: टॉमला आत यायला देऊ नका\n",
            "predicted Translate:  टॉमला आत येऊ देऊ नकोस\n",
            "====================================================================================================\n",
            "Test sentance:  51\n",
            "sentance:  i asked tom about his new book\n",
            "origianl translate: मी टॉमला त्याच्या नवीन पुस्तकाबद्दल विचारलं\n",
            "predicted Translate:  मी टॉमला पुस्तक आणि मी चाव्या मिळालं\n",
            "====================================================================================================\n",
            "Test sentance:  52\n",
            "sentance:  do you have a phone\n",
            "origianl translate: तुझ्याकडे फोन आहे का\n",
            "predicted Translate:  तू फोन आहे का\n",
            "====================================================================================================\n",
            "Test sentance:  53\n",
            "sentance:  why are you showing me this\n",
            "origianl translate: तू मला हे का दाखवतो आहेस\n",
            "predicted Translate:  तू मला हे का माझी ऐकत का\n",
            "====================================================================================================\n",
            "Test sentance:  54\n",
            "sentance:  tom said he didnt like his new job\n",
            "origianl translate: टॉम म्हणाला की त्याला त्याची नवीन नोकरी आवडली नाही\n",
            "predicted Translate:  टॉम मेरीला म्हणाला की त्याला शाळा खूप आवडतात\n",
            "====================================================================================================\n",
            "Test sentance:  55\n",
            "sentance:  she will be here tonight\n",
            "origianl translate: ती आज रात्री इथे असेल\n",
            "predicted Translate:  ती आज रात्री इथे झाली\n",
            "====================================================================================================\n",
            "Test sentance:  56\n",
            "sentance:  where is he\n",
            "origianl translate: कुठे आहे तो\n",
            "predicted Translate:  ते कुठे आहे\n",
            "====================================================================================================\n",
            "Test sentance:  57\n",
            "sentance:  ill buy what i need at that shop\n",
            "origianl translate: मला ज्याची गरज आहे ते मी त्या दुकानात विकत घेईन\n",
            "predicted Translate:  मला या आठवड्यात विकत घेतलं नाही आहे\n",
            "====================================================================================================\n",
            "Test sentance:  58\n",
            "sentance:  he visited china in\n",
            "origianl translate: त्याने मध्ये चीनला भेट दिली\n",
            "predicted Translate:  त्याने मेरीला गोष्टी\n",
            "====================================================================================================\n",
            "Test sentance:  59\n",
            "sentance:  what do you do here\n",
            "origianl translate: तुम्ही इथे काय करता\n",
            "predicted Translate:  तू इथे काय करतेस\n",
            "====================================================================================================\n",
            "Test sentance:  60\n",
            "sentance:  tom took the wrong bus\n",
            "origianl translate: टॉमने चुकीची बस पकडली\n",
            "predicted Translate:  टॉमने बस माहीत होतं\n",
            "====================================================================================================\n",
            "Test sentance:  61\n",
            "sentance:  i speak english every day\n",
            "origianl translate: मी प्रत्येक दिवशी इंग्रजी बोलते\n",
            "predicted Translate:  मी इंग्रजी दररोज बोलतो\n",
            "====================================================================================================\n",
            "Test sentance:  62\n",
            "sentance:  im very popular\n",
            "origianl translate: मी अतिशय लोकप्रिय आहे\n",
            "predicted Translate:  मी अतिशय लोकप्रिय आहे\n",
            "====================================================================================================\n",
            "Test sentance:  63\n",
            "sentance:  where was your father\n",
            "origianl translate: तुमचे वडील कुठे होते\n",
            "predicted Translate:  तुझे वडील कुठे होते\n",
            "====================================================================================================\n",
            "Test sentance:  64\n",
            "sentance:  do you like this song\n",
            "origianl translate: तुम्हाला हे गाणं आवडलं का\n",
            "predicted Translate:  तुम्हाला हे गाणं आवडतं का\n",
            "====================================================================================================\n",
            "Test sentance:  65\n",
            "sentance:  do all birds have feathers\n",
            "origianl translate: सगळ्याच पक्षांना पिसं असतात का\n",
            "predicted Translate:  सर्व पक्षी का\n",
            "====================================================================================================\n",
            "Test sentance:  66\n",
            "sentance:  tom might leave tomorrow\n",
            "origianl translate: टॉम उद्या निघू शकेल\n",
            "predicted Translate:  टॉम उद्या येऊ शकतो\n",
            "====================================================================================================\n",
            "Test sentance:  67\n",
            "sentance:  you shouldnt have read toms letter\n",
            "origianl translate: तुम्ही टॉमचं पत्र वाचायला नको होतं\n",
            "predicted Translate:  तुला टॉमची उत्तर हवं आहे\n",
            "====================================================================================================\n",
            "Test sentance:  68\n",
            "sentance:  i didnt kiss him he kissed me\n",
            "origianl translate: मी त्याला किस केलं नाही त्याने मला किस केलं\n",
            "predicted Translate:  मी त्यांना त्याला सांगितलं नाही जातो\n",
            "====================================================================================================\n",
            "Test sentance:  69\n",
            "sentance:  id do anything to help you\n",
            "origianl translate: तुमची मदत करायला मी काहीही करेन\n",
            "predicted Translate:  मी तुमची मदत करायला परत गेलो आहे\n",
            "====================================================================================================\n",
            "Test sentance:  70\n",
            "sentance:  there were about thirty of us\n",
            "origianl translate: आम्ही सुमारे तीस जण होतो\n",
            "predicted Translate:  आम्ही भरपूर तीस वेळा होते\n",
            "====================================================================================================\n",
            "Test sentance:  71\n",
            "sentance:  tom gave some milk to the cat\n",
            "origianl translate: टॉमने मांजरीला जरासं दूध दिलं\n",
            "predicted Translate:  टॉमने काही दूध दिली\n",
            "====================================================================================================\n",
            "Test sentance:  72\n",
            "sentance:  i dont know anything\n",
            "origianl translate: मला काहीही माहीत नाही\n",
            "predicted Translate:  मला काहीही माहीत नाहीये\n",
            "====================================================================================================\n",
            "Test sentance:  73\n",
            "sentance:  how many mosques are there in istanbul\n",
            "origianl translate: इस्तंबूलमध्ये किती मशिदी आहेत\n",
            "predicted Translate:  किती तिथे आहेत\n",
            "====================================================================================================\n",
            "Test sentance:  74\n",
            "sentance:  how did tom know that mary knew french\n",
            "origianl translate: मेरीला फ्रेंच येत होती हे टॉमला कसं माहीत होतं\n",
            "predicted Translate:  टॉमला फ्रेंच सांगितलं की तुम्हाला माहीत होतं\n",
            "====================================================================================================\n",
            "Test sentance:  75\n",
            "sentance:  tom gave that to me\n",
            "origianl translate: ते मला टॉमने दिलं\n",
            "predicted Translate:  टॉमने ते मला दिलं\n",
            "====================================================================================================\n",
            "Test sentance:  76\n",
            "sentance:  we wont sing\n",
            "origianl translate: आम्ही गाणार नाही\n",
            "predicted Translate:  आम्ही कदाचित बघितलं\n",
            "====================================================================================================\n",
            "Test sentance:  77\n",
            "sentance:  return immediately\n",
            "origianl translate: ताबडतोब परत या\n",
            "predicted Translate:  ताबडतोब आत परत ये\n",
            "====================================================================================================\n",
            "Test sentance:  78\n",
            "sentance:  were trapped\n",
            "origianl translate: आम्ही फसलोय\n",
            "predicted Translate:  आम्ही केला तर\n",
            "====================================================================================================\n",
            "Test sentance:  79\n",
            "sentance:  dont listen to that man\n",
            "origianl translate: त्या माणसाचं ऐकू नकोस\n",
            "predicted Translate:  तो माणूस माझा ऐकत नकोस\n",
            "====================================================================================================\n",
            "Test sentance:  80\n",
            "sentance:  tom gave me this game\n",
            "origianl translate: टॉमने मला हा खेळ दिला\n",
            "predicted Translate:  टॉमने मला हा खेळ दिला\n",
            "====================================================================================================\n",
            "Test sentance:  81\n",
            "sentance:  what was your day like\n",
            "origianl translate: तुझा दिवस कसा गेला\n",
            "predicted Translate:  तुमचा एक प्रश्न बोलता कशी\n",
            "====================================================================================================\n",
            "Test sentance:  82\n",
            "sentance:  theres no point in waiting\n",
            "origianl translate: थांबण्यात काही अर्थ नाहीये\n",
            "predicted Translate:  कोणीही खरं नाहीये\n",
            "====================================================================================================\n",
            "Test sentance:  83\n",
            "sentance:  this is my favorite song\n",
            "origianl translate: हे माझं आवडतं गाणं आहे\n",
            "predicted Translate:  ही गाणं माझा आवडतं\n",
            "====================================================================================================\n",
            "Test sentance:  84\n",
            "sentance:  lets go by car\n",
            "origianl translate: चल गाडीने जाऊया\n",
            "predicted Translate:  गाडी जाऊया\n",
            "====================================================================================================\n",
            "Test sentance:  85\n",
            "sentance:  im in the kitchen\n",
            "origianl translate: मी किचनमध्ये आहे\n",
            "predicted Translate:  मी स्वयंपाकघरात आहे\n",
            "====================================================================================================\n",
            "Test sentance:  86\n",
            "sentance:  what does he expect\n",
            "origianl translate: त्याची काय अपेक्षा आहे\n",
            "predicted Translate:  तो काय म्हणाला असेल\n",
            "====================================================================================================\n",
            "Test sentance:  87\n",
            "sentance:  let me see that list\n",
            "origianl translate: बघू दे ती यादी\n",
            "predicted Translate:  मला त्या बघू शकतो\n",
            "====================================================================================================\n",
            "Test sentance:  88\n",
            "sentance:  watch how i do it\n",
            "origianl translate: मी कसं करतो बघ\n",
            "predicted Translate:  मी कसं करू शकते\n",
            "====================================================================================================\n",
            "Test sentance:  89\n",
            "sentance:  you can see the roof of the house from there\n",
            "origianl translate: तिथून घराचं छत दिसतं\n",
            "predicted Translate:  करायचं आहे घड्याळ मला कोण कप आहे\n",
            "====================================================================================================\n",
            "Test sentance:  90\n",
            "sentance:  dont let him answer the phone\n",
            "origianl translate: त्याला फोन उचलायला देऊ नकोस\n",
            "predicted Translate:  त्यांना उत्तर फोन करायला देऊ नकोस\n",
            "====================================================================================================\n",
            "Test sentance:  91\n",
            "sentance:  i forgot to buy sugar\n",
            "origianl translate: मी साखर विकत घ्यायला विसरले\n",
            "predicted Translate:  मी साखर विकत देणार आहे नाही\n",
            "====================================================================================================\n",
            "Test sentance:  92\n",
            "sentance:  wheres your phone\n",
            "origianl translate: तुझा फोन कुठेय\n",
            "predicted Translate:  तुझा फोन कुठेय\n",
            "====================================================================================================\n",
            "Test sentance:  93\n",
            "sentance:  he thought of a good solution\n",
            "origianl translate: त्याने एक चांगला उपाय सुचवला\n",
            "predicted Translate:  त्यांना एक शिक्षक आहे\n",
            "====================================================================================================\n",
            "Test sentance:  94\n",
            "sentance:  may i have a couple of cheese sandwiches\n",
            "origianl translate: मला दोन चीज सँडविच मिळतील का\n",
            "predicted Translate:  माझ्याकडे दोन मांजरी सँडविच आहेत\n",
            "====================================================================================================\n",
            "Test sentance:  95\n",
            "sentance:  she is living abroad\n",
            "origianl translate: ती परदेशात राहते\n",
            "predicted Translate:  ती ऑस्ट्रेलियात राहते\n",
            "====================================================================================================\n",
            "Test sentance:  96\n",
            "sentance:  tom didnt get angry with mary\n",
            "origianl translate: टॉम मेरीवर रागावला नाही\n",
            "predicted Translate:  टॉमला मेरी मुलं आवडतो\n",
            "====================================================================================================\n",
            "Test sentance:  97\n",
            "sentance:  will you have some coffee\n",
            "origianl translate: तू जराशी कॉफी घेशील का\n",
            "predicted Translate:  तुमच्याकडे काही कॉफी आवडते\n",
            "====================================================================================================\n",
            "Test sentance:  98\n",
            "sentance:  wheres your medication\n",
            "origianl translate: तुझं औषध कुठेय\n",
            "predicted Translate:  तुझी बायको कुठे आहे\n",
            "====================================================================================================\n",
            "Test sentance:  99\n",
            "sentance:  tom ate breakfast alone\n",
            "origianl translate: टॉमने एकट्याने नाश्ता केला\n",
            "predicted Translate:  टॉमने सँडविच एकटी राहिली\n",
            "====================================================================================================\n",
            "Test sentance:  100\n",
            "sentance:  ask him his name\n",
            "origianl translate: त्याला त्याचं नाव विचार\n",
            "predicted Translate:  त्याला त्याचं नाव\n",
            "====================================================================================================\n"
          ],
          "name": "stdout"
        }
      ]
    },
    {
      "cell_type": "code",
      "metadata": {
        "id": "D7EooSi9jeog"
      },
      "source": [
        ""
      ],
      "execution_count": 39,
      "outputs": []
    }
  ]
}