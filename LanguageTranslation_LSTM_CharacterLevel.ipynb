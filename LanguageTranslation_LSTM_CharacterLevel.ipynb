{
  "nbformat": 4,
  "nbformat_minor": 0,
  "metadata": {
    "kernelspec": {
      "display_name": "Python 3",
      "language": "python",
      "name": "python3"
    },
    "language_info": {
      "codemirror_mode": {
        "name": "ipython",
        "version": 3
      },
      "file_extension": ".py",
      "mimetype": "text/x-python",
      "name": "python",
      "nbconvert_exporter": "python",
      "pygments_lexer": "ipython3",
      "version": "3.7.6"
    },
    "colab": {
      "name": "Assignment_3_CharacterLevel_SharmilaGowriV_3A.ipynb",
      "provenance": [],
      "collapsed_sections": []
    }
  },
  "cells": [
    {
      "cell_type": "markdown",
      "metadata": {
        "id": "8ejR5UbsstCL"
      },
      "source": [
        "#Assignment -3\n",
        "#Sharmila Gowri Velugula - ku3936"
      ]
    },
    {
      "cell_type": "markdown",
      "metadata": {
        "id": "-qw1satPDOze"
      },
      "source": [
        "#**3A) Seq2Seq Language Translation model - Character Level**"
      ]
    },
    {
      "cell_type": "markdown",
      "metadata": {
        "id": "-kfO4tH2n0Lv"
      },
      "source": [
        "Import marathi text file. [mar.txt]"
      ]
    },
    {
      "cell_type": "markdown",
      "metadata": {
        "id": "8hCpfn91ruUh"
      },
      "source": [
        "This is basic character-level recurrent sequence-to-sequence model. We apply it to translating short English sentences into short marathi sentences, character-by-character. "
      ]
    },
    {
      "cell_type": "markdown",
      "metadata": {
        "id": "bIZoP879r_Yz"
      },
      "source": [
        "**Summary of the algorithm**\n",
        "\n",
        "We start with input sequences from a domain (e.g. English sentences) and corresponding target sequences from another domain (e.g. French sentences).\n",
        "An encoder LSTM turns input sequences to 2 state vectors (we keep the last LSTM state and discard the outputs).\n",
        "A decoder LSTM is trained to turn the target sequences into the same sequence but offset by one timestep in the future, a training process called \"teacher forcing\" in this context. It uses as initial state the state vectors from the encoder. Effectively, the decoder learns to generate targets[t+1...] given targets[...t], conditioned on the input sequence.\n",
        "In inference mode, when we want to decode unknown input sequences, we: - Encode the input sequence into state vectors - Start with a target sequence of size 1 (just the start-of-sequence character) - Feed the state vectors and 1-char target sequence to the decoder to produce predictions for the next character - Sample the next character using these predictions (we simply use argmax). - Append the sampled character to the target sequence - Repeat until we generate the end-of-sequence character or we hit the character limit."
      ]
    },
    {
      "cell_type": "markdown",
      "metadata": {
        "id": "z7YL5RQSDb9G"
      },
      "source": [
        "#Import Libraries"
      ]
    },
    {
      "cell_type": "code",
      "metadata": {
        "id": "868nN6JfDb4n"
      },
      "source": [
        "from __future__ import print_function\n",
        "\n",
        "from keras.models import Model\n",
        "from keras.layers import Input, LSTM, Dense\n",
        "import numpy as np\n",
        "import pandas as pd\n",
        "pd.set_option('display.max_columns', None) "
      ],
      "execution_count": 15,
      "outputs": []
    },
    {
      "cell_type": "markdown",
      "metadata": {
        "id": "ilFFIyCRoMvM"
      },
      "source": [
        "#Load Dataset"
      ]
    },
    {
      "cell_type": "code",
      "metadata": {
        "id": "wcA4YghdFsPd"
      },
      "source": [
        "batch_size = 64  # Batch size for training.\n",
        "epochs = 100  # Number of epochs to train for.\n",
        "latent_dim = 256  # Latent dimensionality of the encoding space.\n",
        "num_samples = 10000  # Number of samples to train on.\n",
        "# Path to the data txt file on disk.\n",
        "data_path = 'mar.txt'"
      ],
      "execution_count": 16,
      "outputs": []
    },
    {
      "cell_type": "markdown",
      "metadata": {
        "id": "cuYXTyuSEbRF"
      },
      "source": [
        "#Vectorize the Data"
      ]
    },
    {
      "cell_type": "code",
      "metadata": {
        "id": "8GNo60M5F-MT"
      },
      "source": [
        "# Vectorize the data.\n",
        "input_texts = []\n",
        "target_texts = []\n",
        "input_characters = set()\n",
        "target_characters = set()\n",
        "with open(data_path, 'r', encoding='utf-8') as f:\n",
        "    lines = f.read().split('\\n')\n",
        "   "
      ],
      "execution_count": 17,
      "outputs": []
    },
    {
      "cell_type": "code",
      "metadata": {
        "id": "nlT7gyaMIJXe",
        "outputId": "a511e2e7-68c0-4321-e853-775f3b32289e",
        "colab": {
          "base_uri": "https://localhost:8080/"
        }
      },
      "source": [
        "len(lines)"
      ],
      "execution_count": 18,
      "outputs": [
        {
          "output_type": "execute_result",
          "data": {
            "text/plain": [
              "40189"
            ]
          },
          "metadata": {
            "tags": []
          },
          "execution_count": 18
        }
      ]
    },
    {
      "cell_type": "code",
      "metadata": {
        "id": "TIJiiEZ0ey9l",
        "outputId": "82e1c77a-ee2b-419f-d28c-adf09f350f1c",
        "colab": {
          "base_uri": "https://localhost:8080/"
        }
      },
      "source": [
        "for line in lines[: min(num_samples, len(lines) - 1)]:\n",
        "    input_text, target_text, _ = line.split('\\t')\n",
        "    # We use \"tab\" as the \"start sequence\" character\n",
        "    # for the targets, and \"\\n\" as \"end sequence\" character.\n",
        "    target_text = '\\t' + target_text + '\\n'\n",
        "    input_texts.append(input_text)\n",
        "    target_texts.append(target_text)\n",
        "    for char in input_text:\n",
        "        if char not in input_characters:\n",
        "            input_characters.add(char)\n",
        "    for char in target_text:\n",
        "        if char not in target_characters:\n",
        "            target_characters.add(char)\n",
        "\n",
        "input_characters = sorted(list(input_characters))\n",
        "target_characters = sorted(list(target_characters))\n",
        "num_encoder_tokens = len(input_characters)\n",
        "num_decoder_tokens = len(target_characters)\n",
        "max_encoder_seq_length = max([len(txt) for txt in input_texts])\n",
        "max_decoder_seq_length = max([len(txt) for txt in target_texts])\n",
        "\n",
        "print('Number of samples:', len(input_texts))\n",
        "print('Number of unique input tokens:', num_encoder_tokens)\n",
        "print('Number of unique output tokens:', num_decoder_tokens)\n",
        "print('Max sequence length for inputs:', max_encoder_seq_length)\n",
        "print('Max sequence length for outputs:', max_decoder_seq_length)"
      ],
      "execution_count": 19,
      "outputs": [
        {
          "output_type": "stream",
          "text": [
            "Number of samples: 10000\n",
            "Number of unique input tokens: 71\n",
            "Number of unique output tokens: 85\n",
            "Max sequence length for inputs: 19\n",
            "Max sequence length for outputs: 42\n"
          ],
          "name": "stdout"
        }
      ]
    },
    {
      "cell_type": "code",
      "metadata": {
        "id": "x_wlZR0xfs2D"
      },
      "source": [
        "input_token_index = dict(\n",
        "    [(char, i) for i, char in enumerate(input_characters)])\n",
        "target_token_index = dict(\n",
        "    [(char, i) for i, char in enumerate(target_characters)])\n",
        "\n"
      ],
      "execution_count": 20,
      "outputs": []
    },
    {
      "cell_type": "markdown",
      "metadata": {
        "id": "jiWCM4nJEflW"
      },
      "source": [
        "#Encoder"
      ]
    },
    {
      "cell_type": "code",
      "metadata": {
        "id": "4Mc7YD8D1b-V"
      },
      "source": [
        "encoder_input_data = np.zeros(\n",
        "    (len(input_texts), max_encoder_seq_length, num_encoder_tokens),\n",
        "    dtype='float32')\n",
        "decoder_input_data = np.zeros(\n",
        "    (len(input_texts), max_decoder_seq_length, num_decoder_tokens),\n",
        "    dtype='float32')\n",
        "decoder_target_data = np.zeros(\n",
        "    (len(input_texts), max_decoder_seq_length, num_decoder_tokens),\n",
        "    dtype='float32')\n"
      ],
      "execution_count": 21,
      "outputs": []
    },
    {
      "cell_type": "code",
      "metadata": {
        "id": "Xa44iuPy1pMk"
      },
      "source": [
        "for i, (input_text, target_text) in enumerate(zip(input_texts, target_texts)):\n",
        "    for t, char in enumerate(input_text):\n",
        "        encoder_input_data[i, t, input_token_index[char]] = 1.\n",
        "    encoder_input_data[i, t + 1:, input_token_index[' ']] = 1.\n",
        "    for t, char in enumerate(target_text):\n",
        "        decoder_input_data[i, t, target_token_index[char]] = 1.\n",
        "        if t > 0:\n",
        "            decoder_target_data[i, t - 1, target_token_index[char]] = 1.\n",
        "    decoder_input_data[i, t + 1:, target_token_index[' ']] = 1.\n",
        "    decoder_target_data[i, t:, target_token_index[' ']] = 1.\n"
      ],
      "execution_count": 23,
      "outputs": []
    },
    {
      "cell_type": "code",
      "metadata": {
        "id": "fyVdksU2WY3s",
        "outputId": "8c9a65b7-6858-4fa5-b89c-498420eac2a7",
        "colab": {
          "base_uri": "https://localhost:8080/"
        }
      },
      "source": [
        "print(target_token_index)"
      ],
      "execution_count": 24,
      "outputs": [
        {
          "output_type": "stream",
          "text": [
            "{'\\t': 0, '\\n': 1, ' ': 2, '!': 3, '\"': 4, '$': 5, ',': 6, '-': 7, '.': 8, ':': 9, '?': 10, 'ँ': 11, 'ं': 12, 'ः': 13, 'अ': 14, 'आ': 15, 'इ': 16, 'ई': 17, 'उ': 18, 'ऊ': 19, 'ऋ': 20, 'ए': 21, 'ऐ': 22, 'ऑ': 23, 'ओ': 24, 'औ': 25, 'क': 26, 'ख': 27, 'ग': 28, 'घ': 29, 'च': 30, 'छ': 31, 'ज': 32, 'झ': 33, 'ञ': 34, 'ट': 35, 'ठ': 36, 'ड': 37, 'ढ': 38, 'ण': 39, 'त': 40, 'थ': 41, 'द': 42, 'ध': 43, 'न': 44, 'प': 45, 'फ': 46, 'ब': 47, 'भ': 48, 'म': 49, 'य': 50, 'र': 51, 'ल': 52, 'ळ': 53, 'व': 54, 'श': 55, 'ष': 56, 'स': 57, 'ह': 58, '़': 59, 'ा': 60, 'ि': 61, 'ी': 62, 'ु': 63, 'ू': 64, 'ृ': 65, 'ॅ': 66, 'े': 67, 'ै': 68, 'ॉ': 69, 'ो': 70, 'ौ': 71, '्': 72, '।': 73, '०': 74, '१': 75, '२': 76, '३': 77, '४': 78, '५': 79, '६': 80, '७': 81, '८': 82, '९': 83, '\\u200d': 84}\n"
          ],
          "name": "stdout"
        }
      ]
    },
    {
      "cell_type": "code",
      "metadata": {
        "id": "wJHtpgJNfzK1"
      },
      "source": [
        "# Define an input sequence and process it.\n",
        "encoder_inputs = Input(shape=(None, num_encoder_tokens))\n",
        "encoder = LSTM(latent_dim, return_state=True)\n",
        "encoder_outputs, state_h, state_c = encoder(encoder_inputs)\n",
        "# We discard `encoder_outputs` and only keep the states.\n",
        "encoder_states = [state_h, state_c]\n",
        "\n"
      ],
      "execution_count": 25,
      "outputs": []
    },
    {
      "cell_type": "markdown",
      "metadata": {
        "id": "oydZp5J1Erwj"
      },
      "source": [
        "#Decoder"
      ]
    },
    {
      "cell_type": "code",
      "metadata": {
        "id": "I6DPpEi3Eq7N"
      },
      "source": [
        "# Set up the decoder, using `encoder_states` as initial state.\n",
        "decoder_inputs = Input(shape=(None, num_decoder_tokens))\n",
        "# We set up our decoder to return full output sequences,\n",
        "# and to return internal states as well. We don't use the\n",
        "# return states in the training model, but we will use them in inference.\n",
        "decoder_lstm = LSTM(latent_dim, return_sequences=True, return_state=True)\n",
        "decoder_outputs, _, _ = decoder_lstm(decoder_inputs,\n",
        "                                     initial_state=encoder_states)\n",
        "decoder_dense = Dense(num_decoder_tokens, activation='softmax')\n",
        "decoder_outputs = decoder_dense(decoder_outputs)\n",
        "\n",
        "# Define the model that will turn\n",
        "# `encoder_input_data` & `decoder_input_data` into `decoder_target_data`\n",
        "model = Model([encoder_inputs, decoder_inputs], decoder_outputs)"
      ],
      "execution_count": null,
      "outputs": []
    },
    {
      "cell_type": "markdown",
      "metadata": {
        "id": "geP7wUmTEvPE"
      },
      "source": [
        "#Build the Model"
      ]
    },
    {
      "cell_type": "code",
      "metadata": {
        "id": "8m6ix-Zpf2NV",
        "outputId": "0c3f0818-3400-4156-fecf-2e940bb5c8fc",
        "colab": {
          "base_uri": "https://localhost:8080/"
        }
      },
      "source": [
        "# Run training\n",
        "model.compile(optimizer='rmsprop', loss='categorical_crossentropy',metrics=['accuracy'])\n",
        "model.summary()"
      ],
      "execution_count": 26,
      "outputs": [
        {
          "output_type": "stream",
          "text": [
            "Model: \"functional_3\"\n",
            "__________________________________________________________________________________________________\n",
            "Layer (type)                    Output Shape         Param #     Connected to                     \n",
            "==================================================================================================\n",
            "input_3 (InputLayer)            [(None, None, 71)]   0                                            \n",
            "__________________________________________________________________________________________________\n",
            "input_4 (InputLayer)            [(None, None, 85)]   0                                            \n",
            "__________________________________________________________________________________________________\n",
            "lstm_2 (LSTM)                   [(None, 256), (None, 335872      input_3[0][0]                    \n",
            "__________________________________________________________________________________________________\n",
            "lstm_3 (LSTM)                   [(None, None, 256),  350208      input_4[0][0]                    \n",
            "                                                                 lstm_2[0][1]                     \n",
            "                                                                 lstm_2[0][2]                     \n",
            "__________________________________________________________________________________________________\n",
            "dense_1 (Dense)                 (None, None, 85)     21845       lstm_3[0][0]                     \n",
            "==================================================================================================\n",
            "Total params: 707,925\n",
            "Trainable params: 707,925\n",
            "Non-trainable params: 0\n",
            "__________________________________________________________________________________________________\n"
          ],
          "name": "stdout"
        }
      ]
    },
    {
      "cell_type": "markdown",
      "metadata": {
        "id": "29VdWPKFE0sh"
      },
      "source": [
        "#Fit the Model"
      ]
    },
    {
      "cell_type": "code",
      "metadata": {
        "id": "FTkwwArc2dBA"
      },
      "source": [
        "from tensorflow.python.keras.callbacks import EarlyStopping\n",
        "\n",
        "early_stopping_monitor = EarlyStopping(patience=3)"
      ],
      "execution_count": 27,
      "outputs": []
    },
    {
      "cell_type": "code",
      "metadata": {
        "id": "IBnbJH0jf-Fy",
        "outputId": "b1b3d2d2-31b2-40a2-c6a7-afa85f0efed4",
        "colab": {
          "base_uri": "https://localhost:8080/"
        }
      },
      "source": [
        "model.fit([encoder_input_data, decoder_input_data], decoder_target_data,\n",
        "          batch_size=batch_size,\n",
        "          epochs=epochs,callbacks=[early_stopping_monitor],verbose=1,\n",
        "          validation_split=0.2)\n",
        "# Save model\n",
        "#model.save('s2s.h5')"
      ],
      "execution_count": 28,
      "outputs": [
        {
          "output_type": "stream",
          "text": [
            "Epoch 1/100\n",
            "125/125 [==============================] - 38s 304ms/step - loss: 1.5773 - accuracy: 0.6388 - val_loss: 1.5887 - val_accuracy: 0.5970\n",
            "Epoch 2/100\n",
            "125/125 [==============================] - 37s 298ms/step - loss: 1.1743 - accuracy: 0.7045 - val_loss: 1.2131 - val_accuracy: 0.6850\n",
            "Epoch 3/100\n",
            "125/125 [==============================] - 37s 298ms/step - loss: 0.9341 - accuracy: 0.7552 - val_loss: 1.0683 - val_accuracy: 0.7174\n",
            "Epoch 4/100\n",
            "125/125 [==============================] - 37s 298ms/step - loss: 0.8175 - accuracy: 0.7788 - val_loss: 0.9711 - val_accuracy: 0.7338\n",
            "Epoch 5/100\n",
            "125/125 [==============================] - 37s 297ms/step - loss: 0.7497 - accuracy: 0.7934 - val_loss: 0.9186 - val_accuracy: 0.7491\n",
            "Epoch 6/100\n",
            "125/125 [==============================] - 37s 298ms/step - loss: 0.6937 - accuracy: 0.8079 - val_loss: 0.8668 - val_accuracy: 0.7613\n",
            "Epoch 7/100\n",
            "125/125 [==============================] - 37s 299ms/step - loss: 0.6487 - accuracy: 0.8203 - val_loss: 0.8273 - val_accuracy: 0.7762\n",
            "Epoch 8/100\n",
            "125/125 [==============================] - 37s 299ms/step - loss: 0.6159 - accuracy: 0.8288 - val_loss: 0.8170 - val_accuracy: 0.7781\n",
            "Epoch 9/100\n",
            "125/125 [==============================] - 38s 302ms/step - loss: 0.5832 - accuracy: 0.8378 - val_loss: 0.7874 - val_accuracy: 0.7845\n",
            "Epoch 10/100\n",
            "125/125 [==============================] - 37s 299ms/step - loss: 0.5539 - accuracy: 0.8453 - val_loss: 0.7729 - val_accuracy: 0.7884\n",
            "Epoch 11/100\n",
            "125/125 [==============================] - 37s 299ms/step - loss: 0.5289 - accuracy: 0.8512 - val_loss: 0.7525 - val_accuracy: 0.7940\n",
            "Epoch 12/100\n",
            "125/125 [==============================] - 37s 299ms/step - loss: 0.5054 - accuracy: 0.8578 - val_loss: 0.7465 - val_accuracy: 0.7952\n",
            "Epoch 13/100\n",
            "125/125 [==============================] - 37s 298ms/step - loss: 0.4848 - accuracy: 0.8630 - val_loss: 0.7281 - val_accuracy: 0.8010\n",
            "Epoch 14/100\n",
            "125/125 [==============================] - 37s 297ms/step - loss: 0.4652 - accuracy: 0.8684 - val_loss: 0.7170 - val_accuracy: 0.8033\n",
            "Epoch 15/100\n",
            "125/125 [==============================] - 38s 301ms/step - loss: 0.4465 - accuracy: 0.8731 - val_loss: 0.7152 - val_accuracy: 0.8050\n",
            "Epoch 16/100\n",
            "125/125 [==============================] - 41s 328ms/step - loss: 0.4290 - accuracy: 0.8780 - val_loss: 0.7077 - val_accuracy: 0.8070\n",
            "Epoch 17/100\n",
            "125/125 [==============================] - 37s 299ms/step - loss: 0.4128 - accuracy: 0.8829 - val_loss: 0.7127 - val_accuracy: 0.8067\n",
            "Epoch 18/100\n",
            "125/125 [==============================] - 38s 302ms/step - loss: 0.3969 - accuracy: 0.8871 - val_loss: 0.7025 - val_accuracy: 0.8089\n",
            "Epoch 19/100\n",
            "125/125 [==============================] - 37s 298ms/step - loss: 0.3814 - accuracy: 0.8913 - val_loss: 0.7054 - val_accuracy: 0.8117\n",
            "Epoch 20/100\n",
            "125/125 [==============================] - 37s 296ms/step - loss: 0.3672 - accuracy: 0.8951 - val_loss: 0.7039 - val_accuracy: 0.8112\n",
            "Epoch 21/100\n",
            "125/125 [==============================] - 37s 297ms/step - loss: 0.3537 - accuracy: 0.8988 - val_loss: 0.7223 - val_accuracy: 0.8091\n"
          ],
          "name": "stdout"
        },
        {
          "output_type": "execute_result",
          "data": {
            "text/plain": [
              "<tensorflow.python.keras.callbacks.History at 0x7f80535c68d0>"
            ]
          },
          "metadata": {
            "tags": []
          },
          "execution_count": 28
        }
      ]
    },
    {
      "cell_type": "code",
      "metadata": {
        "id": "28NwF38X5Wm5"
      },
      "source": [
        "model.save('s2s_char.h5')"
      ],
      "execution_count": 29,
      "outputs": []
    },
    {
      "cell_type": "markdown",
      "metadata": {
        "id": "01qNpdXgsWF1"
      },
      "source": [
        "#Inference Model"
      ]
    },
    {
      "cell_type": "markdown",
      "metadata": {
        "id": "h18DUeOosYMc"
      },
      "source": [
        "\n",
        "1. Encode input and retrieve initial decoder state\n",
        "2. run one step of decoder with this initial state and a \"start of sequence\" token as target. Output will be the next target token.\n",
        "3.Repeat with the current target token and current states"
      ]
    },
    {
      "cell_type": "code",
      "metadata": {
        "id": "u5HYQioSg3-k"
      },
      "source": [
        "# Define sampling models\n",
        "encoder_model = Model(encoder_inputs, encoder_states)\n",
        "\n",
        "decoder_state_input_h = Input(shape=(latent_dim,))\n",
        "decoder_state_input_c = Input(shape=(latent_dim,))\n",
        "decoder_states_inputs = [decoder_state_input_h, decoder_state_input_c]\n",
        "decoder_outputs, state_h, state_c = decoder_lstm(\n",
        "    decoder_inputs, initial_state=decoder_states_inputs)\n",
        "decoder_states = [state_h, state_c]\n",
        "decoder_outputs = decoder_dense(decoder_outputs)\n",
        "decoder_model = Model(\n",
        "    [decoder_inputs] + decoder_states_inputs,\n",
        "    [decoder_outputs] + decoder_states)"
      ],
      "execution_count": 30,
      "outputs": []
    },
    {
      "cell_type": "code",
      "metadata": {
        "id": "sw-fpl6lZOMp"
      },
      "source": [
        "# Reverse-lookup token index to decode sequences back to\n",
        "# something readable.\n",
        "reverse_input_char_index = dict(\n",
        "    (i, char) for char, i in input_token_index.items())\n",
        "reverse_target_char_index = dict(\n",
        "    (i, char) for char, i in target_token_index.items())"
      ],
      "execution_count": 31,
      "outputs": []
    },
    {
      "cell_type": "markdown",
      "metadata": {
        "id": "u8ynypt6E6YM"
      },
      "source": [
        "#Predictions"
      ]
    },
    {
      "cell_type": "code",
      "metadata": {
        "id": "szHlCILlZRcX"
      },
      "source": [
        "def decode_sequence(input_seq):\n",
        "    # Encode the input as state vectors.\n",
        "    states_value = encoder_model.predict(input_seq)\n",
        "\n",
        "    # Generate empty target sequence of length 1.\n",
        "    target_seq = np.zeros((1, 1, num_decoder_tokens))\n",
        "    # Populate the first character of target sequence with the start character.\n",
        "    target_seq[0, 0, target_token_index['\\t']] = 1.\n",
        "\n",
        "    # Sampling loop for a batch of sequences\n",
        "    # (to simplify, here we assume a batch of size 1).\n",
        "    stop_condition = False\n",
        "    decoded_sentence = ''\n",
        "    while not stop_condition:\n",
        "        output_tokens, h, c = decoder_model.predict(\n",
        "            [target_seq] + states_value)\n",
        "\n",
        "        # Sample a token\n",
        "        sampled_token_index = np.argmax(output_tokens[0, -1, :])\n",
        "        sampled_char = reverse_target_char_index[sampled_token_index]\n",
        "        decoded_sentence += sampled_char\n",
        "\n",
        "        # Exit condition: either hit max length\n",
        "        # or find stop character.\n",
        "        if (sampled_char == '\\n' or\n",
        "           len(decoded_sentence) > max_decoder_seq_length):\n",
        "            stop_condition = True\n",
        "\n",
        "        # Update the target sequence (of length 1).\n",
        "        target_seq = np.zeros((1, 1, num_decoder_tokens))\n",
        "        target_seq[0, 0, sampled_token_index] = 1.\n",
        "\n",
        "        # Update states\n",
        "        states_value = [h, c]\n",
        "\n",
        "    return decoded_sentence\n"
      ],
      "execution_count": 32,
      "outputs": []
    },
    {
      "cell_type": "code",
      "metadata": {
        "id": "MxoQf6kGZT3J",
        "outputId": "1e7b8208-9e22-4247-f0e1-b95ab2853292",
        "colab": {
          "base_uri": "https://localhost:8080/"
        }
      },
      "source": [
        "for seq_index in range(100):\n",
        "    # Take one sequence (part of the training set)\n",
        "    # for trying out decoding.\n",
        "    input_seq = encoder_input_data[seq_index: seq_index + 1]\n",
        "    decoded_sentence = decode_sequence(input_seq)\n",
        "    print('-')\n",
        "    print('Input sentence:', input_texts[seq_index])\n",
        "    print('Decoded sentence:', decoded_sentence)"
      ],
      "execution_count": 33,
      "outputs": [
        {
          "output_type": "stream",
          "text": [
            "-\n",
            "Input sentence: Go.\n",
            "Decoded sentence: मला बघ.\n",
            "\n",
            "-\n",
            "Input sentence: Run!\n",
            "Decoded sentence: वाचा!\n",
            "\n",
            "-\n",
            "Input sentence: Run!\n",
            "Decoded sentence: वाचा!\n",
            "\n",
            "-\n",
            "Input sentence: Run!\n",
            "Decoded sentence: वाचा!\n",
            "\n",
            "-\n",
            "Input sentence: Run!\n",
            "Decoded sentence: वाचा!\n",
            "\n",
            "-\n",
            "Input sentence: Who?\n",
            "Decoded sentence: कोण आहे?\n",
            "\n",
            "-\n",
            "Input sentence: Wow!\n",
            "Decoded sentence: वाचा!\n",
            "\n",
            "-\n",
            "Input sentence: Fire!\n",
            "Decoded sentence: वाचा!\n",
            "\n",
            "-\n",
            "Input sentence: Fire!\n",
            "Decoded sentence: वाचा!\n",
            "\n",
            "-\n",
            "Input sentence: Help!\n",
            "Decoded sentence: वाचा!\n",
            "\n",
            "-\n",
            "Input sentence: Help!\n",
            "Decoded sentence: वाचा!\n",
            "\n",
            "-\n",
            "Input sentence: Jump!\n",
            "Decoded sentence: उडी राहा!\n",
            "\n",
            "-\n",
            "Input sentence: Jump!\n",
            "Decoded sentence: उडी राहा!\n",
            "\n",
            "-\n",
            "Input sentence: Jump.\n",
            "Decoded sentence: टॉमला वाचव.\n",
            "\n",
            "-\n",
            "Input sentence: Jump.\n",
            "Decoded sentence: टॉमला वाचव.\n",
            "\n",
            "-\n",
            "Input sentence: Stop!\n",
            "Decoded sentence: वाजवा!\n",
            "\n",
            "-\n",
            "Input sentence: Stop!\n",
            "Decoded sentence: वाजवा!\n",
            "\n",
            "-\n",
            "Input sentence: Wait!\n",
            "Decoded sentence: वाचा!\n",
            "\n",
            "-\n",
            "Input sentence: Wait!\n",
            "Decoded sentence: वाचा!\n",
            "\n",
            "-\n",
            "Input sentence: Hello!\n",
            "Decoded sentence: वाचा!\n",
            "\n",
            "-\n",
            "Input sentence: Hurry!\n",
            "Decoded sentence: लवकर!\n",
            "\n",
            "-\n",
            "Input sentence: Hurry!\n",
            "Decoded sentence: लवकर!\n",
            "\n",
            "-\n",
            "Input sentence: Hurry!\n",
            "Decoded sentence: लवकर!\n",
            "\n",
            "-\n",
            "Input sentence: I won!\n",
            "Decoded sentence: मी काम करत नाही.\n",
            "\n",
            "-\n",
            "Input sentence: I won!\n",
            "Decoded sentence: मी काम करत नाही.\n",
            "\n",
            "-\n",
            "Input sentence: Get up.\n",
            "Decoded sentence: माझ्याबरोबर या.\n",
            "\n",
            "-\n",
            "Input sentence: Got it!\n",
            "Decoded sentence: वाचार.\n",
            "\n",
            "-\n",
            "Input sentence: Got it?\n",
            "Decoded sentence: मला होतात का?\n",
            "\n",
            "-\n",
            "Input sentence: Got it?\n",
            "Decoded sentence: मला होतात का?\n",
            "\n",
            "-\n",
            "Input sentence: Got it?\n",
            "Decoded sentence: मला होतात का?\n",
            "\n",
            "-\n",
            "Input sentence: Got it?\n",
            "Decoded sentence: मला होतात का?\n",
            "\n",
            "-\n",
            "Input sentence: He ran.\n",
            "Decoded sentence: तो धावला.\n",
            "\n",
            "-\n",
            "Input sentence: He ran.\n",
            "Decoded sentence: तो धावला.\n",
            "\n",
            "-\n",
            "Input sentence: He ran.\n",
            "Decoded sentence: तो धावला.\n",
            "\n",
            "-\n",
            "Input sentence: He ran.\n",
            "Decoded sentence: तो धावला.\n",
            "\n",
            "-\n",
            "Input sentence: I fell.\n",
            "Decoded sentence: मला ते हवं आहे.\n",
            "\n",
            "-\n",
            "Input sentence: I fell.\n",
            "Decoded sentence: मला ते हवं आहे.\n",
            "\n",
            "-\n",
            "Input sentence: I fell.\n",
            "Decoded sentence: मला ते हवं आहे.\n",
            "\n",
            "-\n",
            "Input sentence: I fell.\n",
            "Decoded sentence: मला ते हवं आहे.\n",
            "\n",
            "-\n",
            "Input sentence: I know.\n",
            "Decoded sentence: मला हवं आहे.\n",
            "\n",
            "-\n",
            "Input sentence: I know.\n",
            "Decoded sentence: मला हवं आहे.\n",
            "\n",
            "-\n",
            "Input sentence: I know.\n",
            "Decoded sentence: मला हवं आहे.\n",
            "\n",
            "-\n",
            "Input sentence: I lost.\n",
            "Decoded sentence: मी घेईन.\n",
            "\n",
            "-\n",
            "Input sentence: I lost.\n",
            "Decoded sentence: मी घेईन.\n",
            "\n",
            "-\n",
            "Input sentence: I work.\n",
            "Decoded sentence: मी काम करतो.\n",
            "\n",
            "-\n",
            "Input sentence: I work.\n",
            "Decoded sentence: मी काम करतो.\n",
            "\n",
            "-\n",
            "Input sentence: I'm OK.\n",
            "Decoded sentence: मी खोटं बोललोय.\n",
            "\n",
            "-\n",
            "Input sentence: Listen.\n",
            "Decoded sentence: आत ये.\n",
            "\n",
            "-\n",
            "Input sentence: Listen.\n",
            "Decoded sentence: आत ये.\n",
            "\n",
            "-\n",
            "Input sentence: No way!\n",
            "Decoded sentence: करी बघ.\n",
            "\n",
            "-\n",
            "Input sentence: Really?\n",
            "Decoded sentence: करी होतं का?\n",
            "\n",
            "-\n",
            "Input sentence: Really?\n",
            "Decoded sentence: करी होतं का?\n",
            "\n",
            "-\n",
            "Input sentence: Really?\n",
            "Decoded sentence: करी होतं का?\n",
            "\n",
            "-\n",
            "Input sentence: Thanks.\n",
            "Decoded sentence: त्यांना पकड.\n",
            "\n",
            "-\n",
            "Input sentence: We won.\n",
            "Decoded sentence: आम्ही ते करू शकतो.\n",
            "\n",
            "-\n",
            "Input sentence: We won.\n",
            "Decoded sentence: आम्ही ते करू शकतो.\n",
            "\n",
            "-\n",
            "Input sentence: Why me?\n",
            "Decoded sentence: मला का?\n",
            "\n",
            "-\n",
            "Input sentence: Why me?\n",
            "Decoded sentence: मला का?\n",
            "\n",
            "-\n",
            "Input sentence: Ask Tom.\n",
            "Decoded sentence: टॉमला बघ.\n",
            "\n",
            "-\n",
            "Input sentence: Ask Tom.\n",
            "Decoded sentence: टॉमला बघ.\n",
            "\n",
            "-\n",
            "Input sentence: Call me.\n",
            "Decoded sentence: मला वाचवा.\n",
            "\n",
            "-\n",
            "Input sentence: Call me.\n",
            "Decoded sentence: मला वाचवा.\n",
            "\n",
            "-\n",
            "Input sentence: Call me.\n",
            "Decoded sentence: मला वाचवा.\n",
            "\n",
            "-\n",
            "Input sentence: Call me.\n",
            "Decoded sentence: मला वाचवा.\n",
            "\n",
            "-\n",
            "Input sentence: Call us.\n",
            "Decoded sentence: मला बोलवा.\n",
            "\n",
            "-\n",
            "Input sentence: Call us.\n",
            "Decoded sentence: मला बोलवा.\n",
            "\n",
            "-\n",
            "Input sentence: Come in.\n",
            "Decoded sentence: आमच्याबरोबर ये.\n",
            "\n",
            "-\n",
            "Input sentence: Come on!\n",
            "Decoded sentence: वाचा!\n",
            "\n",
            "-\n",
            "Input sentence: Come on!\n",
            "Decoded sentence: वाचा!\n",
            "\n",
            "-\n",
            "Input sentence: Fold it.\n",
            "Decoded sentence: मला वाचव.\n",
            "\n",
            "-\n",
            "Input sentence: Fold it.\n",
            "Decoded sentence: मला वाचव.\n",
            "\n",
            "-\n",
            "Input sentence: Get Tom.\n",
            "Decoded sentence: टॉमला घोडा.\n",
            "\n",
            "-\n",
            "Input sentence: Get Tom.\n",
            "Decoded sentence: टॉमला घोडा.\n",
            "\n",
            "-\n",
            "Input sentence: Get Tom.\n",
            "Decoded sentence: टॉमला घोडा.\n",
            "\n",
            "-\n",
            "Input sentence: Get out.\n",
            "Decoded sentence: माझ्याबरोबर या.\n",
            "\n",
            "-\n",
            "Input sentence: Get out.\n",
            "Decoded sentence: माझ्याबरोबर या.\n",
            "\n",
            "-\n",
            "Input sentence: Go home.\n",
            "Decoded sentence: मला बोलव.\n",
            "\n",
            "-\n",
            "Input sentence: He came.\n",
            "Decoded sentence: तो धावला.\n",
            "\n",
            "-\n",
            "Input sentence: He came.\n",
            "Decoded sentence: तो धावला.\n",
            "\n",
            "-\n",
            "Input sentence: He runs.\n",
            "Decoded sentence: तो रडला.\n",
            "\n",
            "-\n",
            "Input sentence: He runs.\n",
            "Decoded sentence: तो रडला.\n",
            "\n",
            "-\n",
            "Input sentence: He runs.\n",
            "Decoded sentence: तो रडला.\n",
            "\n",
            "-\n",
            "Input sentence: He runs.\n",
            "Decoded sentence: तो रडला.\n",
            "\n",
            "-\n",
            "Input sentence: Help me!\n",
            "Decoded sentence: वाचा!\n",
            "\n",
            "-\n",
            "Input sentence: Help me!\n",
            "Decoded sentence: वाचा!\n",
            "\n",
            "-\n",
            "Input sentence: Help me!\n",
            "Decoded sentence: वाचा!\n",
            "\n",
            "-\n",
            "Input sentence: Help me.\n",
            "Decoded sentence: मला वाचवा.\n",
            "\n",
            "-\n",
            "Input sentence: Help me.\n",
            "Decoded sentence: मला वाचवा.\n",
            "\n",
            "-\n",
            "Input sentence: Help us.\n",
            "Decoded sentence: आमच्याबरोबर या.\n",
            "\n",
            "-\n",
            "Input sentence: Help us.\n",
            "Decoded sentence: आमच्याबरोबर या.\n",
            "\n",
            "-\n",
            "Input sentence: Help us.\n",
            "Decoded sentence: आमच्याबरोबर या.\n",
            "\n",
            "-\n",
            "Input sentence: I'm Tom.\n",
            "Decoded sentence: मी टॉमचा आहे.\n",
            "\n",
            "-\n",
            "Input sentence: I'm Tom.\n",
            "Decoded sentence: मी टॉमचा आहे.\n",
            "\n",
            "-\n",
            "Input sentence: I'm Tom.\n",
            "Decoded sentence: मी टॉमचा आहे.\n",
            "\n",
            "-\n",
            "Input sentence: I'm fat.\n",
            "Decoded sentence: मी आहे.\n",
            "\n",
            "-\n",
            "Input sentence: I'm fat.\n",
            "Decoded sentence: मी आहे.\n",
            "\n",
            "-\n",
            "Input sentence: I'm ill.\n",
            "Decoded sentence: मी आहे.\n",
            "\n",
            "-\n",
            "Input sentence: It's OK.\n",
            "Decoded sentence: माझी आहे.\n",
            "\n",
            "-\n",
            "Input sentence: It's me!\n",
            "Decoded sentence: माझी आहे.\n",
            "\n",
            "-\n",
            "Input sentence: It's me.\n",
            "Decoded sentence: माझी आहे.\n",
            "\n"
          ],
          "name": "stdout"
        }
      ]
    }
  ]
}